{
 "cells": [
  {
   "cell_type": "code",
   "execution_count": 1,
   "metadata": {},
   "outputs": [],
   "source": [
    "import csv\n",
    "#from matplotlib import pyplot as plthttp://localhost:8888/notebooks/OneDrive/Desktop/latest_python/2023_Population_Generator_April_TEST_26042023.ipynb#\n",
    "#from matplotlib import figure\n",
    "import pandas as pd\n",
    "import math\n",
    "import random\n",
    "import numpy as np\n",
    "import ast\n",
    "from matplotlib import pyplot as plt\n",
    "from timeit import default_timer as timer"
   ]
  },
  {
   "cell_type": "code",
   "execution_count": 2,
   "metadata": {},
   "outputs": [],
   "source": [
    "start_time = timer()"
   ]
  },
  {
   "cell_type": "code",
   "execution_count": 3,
   "metadata": {},
   "outputs": [],
   "source": [
    "# Settings\n",
    "\n",
    "birthyear = 1700\n",
    "\n",
    "start_year = 1700\n",
    "end_year = 2023\n",
    "popsize = 1/100\n",
    "\n",
    "Latest_Family_ID = 0\n",
    "    \n",
    "IDs = []\n",
    "IDs.extend(range(Latest_Family_ID + 1, 2*10**6))\n",
    "\n",
    "# Couple age-gap range    \n",
    "age_g = [-10, 10]"
   ]
  },
  {
   "cell_type": "code",
   "execution_count": null,
   "metadata": {},
   "outputs": [],
   "source": []
  },
  {
   "cell_type": "code",
   "execution_count": 4,
   "metadata": {},
   "outputs": [],
   "source": [
    "# Initial population proportion\n",
    "#\n",
    "#\n",
    "#\n",
    "#\n"
   ]
  },
  {
   "cell_type": "code",
   "execution_count": 5,
   "metadata": {
    "scrolled": true
   },
   "outputs": [
    {
     "data": {
      "application/vnd.jupyter.widget-view+json": {
       "model_id": "a4d1c7cdd418494b90ca20bc92823a78",
       "version_major": 2,
       "version_minor": 0
      },
      "text/plain": [
       "interactive(children=(FloatSlider(value=1274.4646464646464, description='b', max=7500.0, min=-5000.0, step=150…"
      ]
     },
     "metadata": {},
     "output_type": "display_data"
    },
    {
     "data": {
      "text/plain": [
       "<function __main__.plot_heaviside(a, c, k)>"
      ]
     },
     "execution_count": 5,
     "metadata": {},
     "output_type": "execute_result"
    }
   ],
   "source": [
    "## # Input data\n",
    "y = [31543, 31543, 31543, 31543, 31092, 31092, 31092, 31092, 31092,\n",
    "       31092, 31092, 31092, 26627, 26627, 26627, 26627, 26627, 24791,\n",
    "       24791, 24791, 24184, 24184, 24184, 24184, 24184, 20300, 20300,\n",
    "       20300, 20300, 20300, 16824, 16824, 16824, 16824, 16824, 16824,\n",
    "       16824, 16824, 16824, 16824, 16824, 16824, 16824, 16824, 16824,\n",
    "       16176, 16176, 16176, 16176, 16176, 16176, 16176, 16176, 16176,\n",
    "       16176, 16176, 16176, 16176, 16176, 16176, 14900, 14900, 14900,\n",
    "       14900, 14900, 11856, 11856, 11856, 11856, 11856,  3445,  3445,\n",
    "        3445,  3445,  3445,  3445,  3445,  3445,  3445,  3445,  3445,\n",
    "        3445,  3445,  3445,  3445,  3445,  3445,  3445,  3445,  3445,\n",
    "        3445,  3445,  3445,  3445,  3445,  3445,  3445,  3445,  3445,\n",
    "        3445,  3445]\n",
    "\n",
    "best_parameters = [1274.4646464646464, 515.1515151515152, 0.020202020202020204]\n",
    "import numpy as np\n",
    "import matplotlib.pyplot as plt\n",
    "from ipywidgets import interact, FloatSlider\n",
    "\n",
    "def heaviside(x, a, c, k):\n",
    "    return np.maximum(a + np.exp((-k*x) + (k*c)), 0)\n",
    "\n",
    "def plot_heaviside(a, c, k):\n",
    "    x = np.arange(len(y))\n",
    "    y_fit = heaviside(x, a, c, k)\n",
    "    fig, ax = plt.subplots()\n",
    "    ax.bar(x, y, width=0.8, color='black', edgecolor='black', label='data')\n",
    "    ax.plot(x, y_fit, color='red', label='fit')\n",
    "    #ax.set_ylim(0, max(y)+16000)\n",
    "    ax.set_xlabel('Age (years)', fontsize=12)\n",
    "    ax.set_ylabel('Population size', fontsize=12)\n",
    "    ax.set_yticks(np.arange(0, 50000, 5000))\n",
    "    ax.legend()\n",
    "    plt.show()\n",
    "    \n",
    "    global f_ages1\n",
    "    f_ages1 = y_fit\n",
    "\n",
    "\n",
    "# a_slider = FloatSlider(min=-5000, max=7500, step=1500, value=best_parameters[0], description='b')\n",
    "# c_slider = FloatSlider(min=485, max=530, step=5, value=best_parameters[1], description='c')\n",
    "# k_slider = FloatSlider(min=0.0185, max=0.0210, step=0.0005, value=best_parameters[2], description='k')\n",
    "\n",
    "\n",
    "a_slider = FloatSlider(min=-5000, max=7500, step=1500, value=best_parameters[0], description='b')\n",
    "c_slider = FloatSlider(min=485, max=530, step=5, value=best_parameters[1], description='c')\n",
    "k_slider = FloatSlider(min=0.0185, max=0.0210, step=0.00030, value=best_parameters[2], description='k')\n",
    "\n",
    "\n",
    "#\n",
    "interact(plot_heaviside, a=a_slider, c=c_slider, k=k_slider)\n"
   ]
  },
  {
   "cell_type": "code",
   "execution_count": 6,
   "metadata": {},
   "outputs": [
    {
     "name": "stdout",
     "output_type": "stream",
     "text": [
      "0.0188\n",
      "0.0191\n",
      "0.0194\n",
      "0.0197\n",
      "0.02\n",
      "0.0203\n",
      "0.0206\n",
      "0.0209\n",
      "0.0212\n"
     ]
    }
   ],
   "source": [
    "a = 0.0185\n",
    "\n",
    "for i in range(0, 9):\n",
    "    a = a + 0.0003\n",
    "    print(round(a, 4))"
   ]
  },
  {
   "cell_type": "code",
   "execution_count": null,
   "metadata": {},
   "outputs": [],
   "source": []
  },
  {
   "cell_type": "code",
   "execution_count": 7,
   "metadata": {},
   "outputs": [
    {
     "data": {
      "text/plain": [
       "(1274.4646464646464, 515.1515151515152, 0.020202020202020204)"
      ]
     },
     "execution_count": 7,
     "metadata": {},
     "output_type": "execute_result"
    }
   ],
   "source": [
    "best_parameters[0], best_parameters[1], best_parameters[2]"
   ]
  },
  {
   "cell_type": "code",
   "execution_count": 8,
   "metadata": {},
   "outputs": [],
   "source": [
    "f_ages = []\n",
    "\n",
    "for i in range(0, len(f_ages1)):\n",
    "    f_ages.append([i, int(round(f_ages1[i]*(10/100)))])\n",
    "    \n"
   ]
  },
  {
   "cell_type": "code",
   "execution_count": 9,
   "metadata": {},
   "outputs": [],
   "source": [
    "# Mortality rate\n",
    "#\n",
    "#\n",
    "#\n",
    "#\n"
   ]
  },
  {
   "cell_type": "code",
   "execution_count": 10,
   "metadata": {},
   "outputs": [],
   "source": [
    "def normalise(numbers):\n",
    "    \"\"\"\n",
    "    Normalises a list of numbers by dividing each number by the sum of the numbers.\n",
    "    \"\"\"\n",
    "    total = sum(numbers)\n",
    "    normalised_numbers = [num/total for num in numbers]\n",
    "    return normalised_numbers"
   ]
  },
  {
   "cell_type": "code",
   "execution_count": 11,
   "metadata": {
    "scrolled": true
   },
   "outputs": [
    {
     "data": {
      "application/vnd.jupyter.widget-view+json": {
       "model_id": "5a3afe8fa519470fbce52a6ae12edd73",
       "version_major": 2,
       "version_minor": 0
      },
      "text/plain": [
       "interactive(children=(FloatSlider(value=600.0, description='A', max=1000.0, min=100.0, step=100.0), FloatSlide…"
      ]
     },
     "metadata": {},
     "output_type": "display_data"
    }
   ],
   "source": [
    "y = np.array([938, 57, 30, 22, 19, 14, 17, 13, 10, 9, 6, 9, 9, 8, 12, 11, 16, 14, 17, 16, 16, 17, 18, 20, 20, 22, 17, 15, 21, 20, 35, 20, 25, 33, 24, 36, 28, 30, 37, 42, 43, 44, 62, 77, 85, 81, 78, 67, 90, 93, 126, 117, 143, 142, 157, 174, 177, 189, 183, 214, 227, 200, 233, 247, 262, 332, 300, 333, 340, 366, 425, 341, 440, 480, 487, 518, 557, 469, 497, 460, 550, 377, 409, 360, 416, 335, 307, 216, 196, 160, 132, 84, 76, 62, 34, 31, 17, 15, 17, 6, 2, 2, 2, 1, 0, 0, 0, 0, 1, 0, 0, 0, 0, 0, 0, 0])\n",
    "y1 = [  2,   2,   3,   1,   2,   3,   0,   3,   1,   1,   1,   2,   2,\n",
    "         3,   4,   2,  14,   9,  18,   6,  16,  17,  12,  15,  13,  14,\n",
    "        18,  16,  20,  11,  23,  26,  20,  21,  31,  27,  29,  33,  29,\n",
    "        33,  31,  29,  35,  35,  45,  52,  44,  64,  71,  85,  76,  90,\n",
    "        79, 106, 127, 127, 147, 160, 158, 158, 174, 204, 194, 212, 185,\n",
    "       217, 251, 250, 255, 300, 339, 365, 401, 400, 402, 455, 509, 467,\n",
    "       494, 500, 540, 569, 650, 626, 629, 618, 652, 592, 588, 530, 523,\n",
    "       445, 400, 343, 281, 232, 157, 138,  74,  48,  38,  18,  16,   9,\n",
    "         4,   4,   1,   0,   0,   0,   0,   0,   0,   0, 0, 0]\n",
    "\n",
    "\n",
    "from geneticalgorithm import geneticalgorithm as ga\n",
    "import numpy as np\n",
    "import matplotlib.pyplot as plt\n",
    "import ipywidgets as widgets\n",
    "from IPython.display import display\n",
    "\n",
    "# Define the function to be optimized\n",
    "def f(A, k, c, b, d):\n",
    "    y_gaussian = A*np.exp(-k*(x-c)**2)\n",
    "    y_exponential = np.exp(-b*(x-d))\n",
    "    y_pred = y_gaussian + y_exponential\n",
    "    mse = np.mean((y-y_pred)**2)\n",
    "    return mse\n",
    "\n",
    "# Define the independent variable\n",
    "x = np.arange(len(y))\n",
    "\n",
    "# Define the bounds for each parameter\n",
    "varbound = np.array([[0, 1000], [0, 0.02], [0, 150], [0, 2], [0, 10]])\n",
    "\n",
    "t = [4.73635514e+02, 3.97005304e-03, 7.41218030e+01, 9.99987447e-01, 6.73027632e+00]\n",
    "\n",
    "# Define the sliders for each parameter\n",
    "# previous value=t[0] [1],[2] etc\n",
    "slider_A = widgets.FloatSlider(min=100, max=varbound[0][1], step=100, value=600, description='A')\n",
    "slider_k = widgets.FloatSlider(min=0.002, max=0.010, step=0.001, value=0.004, description='k')\n",
    "#slider_c = widgets.FloatSlider(min=varbound[2][0], max=varbound[2][1], step=5, value=t[2], description='c')\n",
    "slider_c = widgets.FloatSlider(min=30, max=100, step=10, value=80, description='c')\n",
    "slider_b = widgets.FloatSlider(min=0.2, max=1, step=0.1, value=0.4, description='b')\n",
    "slider_d = widgets.FloatSlider(min=varbound[4][0], max=varbound[4][1], step=2, value=6.73, description='d')\n",
    "\n",
    "\n",
    "# Define the function to update the plot\n",
    "def update_plot(slider_A, slider_k, slider_c, slider_b, slider_d):\n",
    "    A = slider_A\n",
    "    k = slider_k\n",
    "    c = slider_c\n",
    "    b = slider_b\n",
    "    d = slider_d\n",
    "\n",
    "    y_gaussian = A*np.exp(-k*(x-c)**2)\n",
    "    y_exponential = np.exp(-b*(x-d))\n",
    "    y_pred = y_gaussian + y_exponential\n",
    "\n",
    "    mse = f(A, k, c, b, d)\n",
    "\n",
    "    plt.clf()\n",
    "    plt.plot(x, y, 'bo', alpha=0.5, label='Data')\n",
    "    plt.plot(x, y1, 'go', alpha=0.5, label='Data')\n",
    "    plt.plot(x, y_pred, 'r-', label='Fit')\n",
    "#     plt.title(f'MSE = {mse:.2f}')\n",
    "    plt.title(f'Mortality distribution')\n",
    "    plt.xlabel('Age at death (years)', fontsize=12)\n",
    "    plt.ylabel('Proportion of deaths', fontsize=12)\n",
    "    plt.legend()\n",
    "    plt.show()\n",
    "\n",
    "    # Return the fitted curve\n",
    "    \n",
    "    y_pred = normalise(y_pred)\n",
    "    return y_pred\n",
    "\n",
    "# Create the interactive plot\n",
    "widget = widgets.interactive(update_plot, slider_A=slider_A, slider_k=slider_k, slider_c=slider_c, slider_b=slider_b, slider_d=slider_d)\n",
    "\n",
    "# Display the widget and get the fitted curve\n",
    "display(widget)\n",
    "y_pred = widget.result\n",
    "death_distribution = y_pred"
   ]
  },
  {
   "cell_type": "code",
   "execution_count": 12,
   "metadata": {},
   "outputs": [
    {
     "data": {
      "text/plain": [
       "(0.0, 10.0)"
      ]
     },
     "execution_count": 12,
     "metadata": {},
     "output_type": "execute_result"
    }
   ],
   "source": [
    "varbound[4][0], varbound[4][1]"
   ]
  },
  {
   "cell_type": "code",
   "execution_count": 13,
   "metadata": {},
   "outputs": [
    {
     "data": {
      "application/vnd.jupyter.widget-view+json": {
       "model_id": "161e5ef4b5cf40cdbaccf35835f25f9e",
       "version_major": 2,
       "version_minor": 0
      },
      "text/plain": [
       "FloatSlider(value=600.0, description='A', max=1000.0, min=100.0, step=100.0)"
      ]
     },
     "metadata": {},
     "output_type": "display_data"
    }
   ],
   "source": [
    "slider_A"
   ]
  },
  {
   "cell_type": "code",
   "execution_count": 14,
   "metadata": {},
   "outputs": [],
   "source": [
    "# Typical fertile age-range\n",
    "#\n",
    "#\n",
    "#\n",
    "#\n"
   ]
  },
  {
   "cell_type": "code",
   "execution_count": 15,
   "metadata": {
    "scrolled": true
   },
   "outputs": [
    {
     "name": "stdout",
     "output_type": "stream",
     "text": [
      "3225 13 30\n"
     ]
    },
    {
     "data": {
      "application/vnd.jupyter.widget-view+json": {
       "model_id": "0599b4d0e8964eb19646328e662eb0fe",
       "version_major": 2,
       "version_minor": 0
      },
      "text/plain": [
       "interactive(children=(FloatSlider(value=1612.6869935474847, description='A', max=1612.6869935474847, min=100.0…"
      ]
     },
     "metadata": {},
     "output_type": "display_data"
    }
   ],
   "source": [
    "import numpy as np\n",
    "from scipy.optimize import curve_fit\n",
    "import matplotlib.pyplot as plt\n",
    "import ipywidgets as widgets\n",
    "from IPython.display import display\n",
    "\n",
    "# Define the function to be optimized (Gaussian distribution)\n",
    "def gaussian(x, A, k, c):\n",
    "    return A * np.exp(-(x - c)**2 / (2 * k**2))\n",
    "\n",
    "# Load the data\n",
    "y = [220., 220., 220., 220., 220., 770.4, 770.4, 770.4,\n",
    "     770.4, 770.4, 1416.4, 1416.4, 1416.4, 1416.4, 1416.4, 1622.8,\n",
    "     1622.8, 1622.8, 1622.8, 1622.8, 835.2, 835.2, 835.2, 835.2,\n",
    "     835.2, 189., 189., 189., 189., 189.]\n",
    "\n",
    "# Define the independent variable\n",
    "x = np.arange(len(y))\n",
    "\n",
    "# Fit the curve to the data\n",
    "p0 = [max(y), np.mean(y), np.std(y)]\n",
    "popt, pcov = curve_fit(gaussian, x, y, p0)\n",
    "\n",
    "# Get the optimal parameters\n",
    "A_gaussian, k_gaussian, c_gaussian = popt\n",
    "\n",
    "# Generate the predicted curve using the optimal parameters\n",
    "y_gaussian = gaussian(x, A_gaussian, k_gaussian, c_gaussian)\n",
    "\n",
    "# Define the sliders\n",
    "A_slider = widgets.FloatSlider(min=100, max=A_gaussian, step=200, value=A_gaussian, description='A')\n",
    "k_slider = widgets.FloatSlider(min=1, max=k_gaussian, step=1, value=k_gaussian, description='k')\n",
    "c_slider = widgets.FloatSlider(min=8, max=20, step=2, value=c_gaussian, description='c')\n",
    "\n",
    "print(round(2*A_gaussian), round(2*k_gaussian), len(y))\n",
    "\n",
    "# Define the function to update the plot\n",
    "def update_plot(A, k, c):\n",
    "    y_updated = gaussian(x, A, k, c)\n",
    "    plt.bar(x, y, color='royalblue', align='center', alpha=0.5)\n",
    "    plt.plot(x, y_updated, color='red', label='Gaussian distribution')\n",
    "    plt.legend()\n",
    "    plt.xticks(np.arange(0, len(y)+1, step=5), ['<20', 20, 25, 30, 35, 40, '>40'])\n",
    "    plt.show()\n",
    "    return(y)\n",
    "    \n",
    "    \n",
    "\n",
    "# Create the widget and display it\n",
    "widget = widgets.interactive(update_plot, A=A_slider, k=k_slider, c=c_slider)\n",
    "\n",
    "\n",
    "# Display the widget and get the fitted curve\n",
    "display(widget)\n",
    "Estimated_Yearly_Distribution1 = widget.result\n",
    "\n",
    "Estimated_Yearly_Distribution = []\n",
    "\n",
    "for i in range(0, len(Estimated_Yearly_Distribution1)):\n",
    "    Estimated_Yearly_Distribution.append([i+15, Estimated_Yearly_Distribution1[i]])"
   ]
  },
  {
   "cell_type": "code",
   "execution_count": 16,
   "metadata": {},
   "outputs": [
    {
     "data": {
      "text/plain": [
       "(1612.6869935474847, 6.3495362339385135, 14.846323579705894)"
      ]
     },
     "execution_count": 16,
     "metadata": {},
     "output_type": "execute_result"
    }
   ],
   "source": [
    " A_gaussian, k_gaussian, c_gaussian"
   ]
  },
  {
   "cell_type": "code",
   "execution_count": 17,
   "metadata": {},
   "outputs": [],
   "source": [
    "# Previous births\n",
    "#\n",
    "#\n",
    "#\n",
    "#\n"
   ]
  },
  {
   "cell_type": "code",
   "execution_count": 18,
   "metadata": {
    "scrolled": true
   },
   "outputs": [
    {
     "name": "stdout",
     "output_type": "stream",
     "text": [
      "Previous Births\n"
     ]
    },
    {
     "data": {
      "application/vnd.jupyter.widget-view+json": {
       "model_id": "ae1c8462bc1b429783a239e1abf58013",
       "version_major": 2,
       "version_minor": 0
      },
      "text/plain": [
       "interactive(children=(IntSlider(value=40, description='0 births', max=99, min=1, readout=False, step=20), IntS…"
      ]
     },
     "metadata": {},
     "output_type": "display_data"
    }
   ],
   "source": [
    "%matplotlib inline\n",
    "import matplotlib.pyplot as plt\n",
    "import ipywidgets as widgets\n",
    "\n",
    "# Data\n",
    "print(\"Previous Births\")\n",
    "labels = ['Zero', 'One', 'Two', 'Three+']\n",
    "sizes = [15, 30, 45, 10]\n",
    "colors = ['magenta', 'orange', 'cyan', 'lime']\n",
    "\n",
    "# Create pie chart\n",
    "def update_chart(Zero=15, One=30, Two=45, Three=10):\n",
    "    # Check if any input value is 0 or 100\n",
    "    if Zero == 0 or Zero == 100 or One == 0 or One == 100 or Two == 0 or Two == 100 or Three == 0 or Three == 100:\n",
    "        print('Input values must be between 1 and 99')\n",
    "        return\n",
    "    \n",
    "    sizes = [Zero, One, Two, Three]\n",
    "    plt.pie(sizes, labels=labels, colors=colors, autopct='%1.1f%%', startangle=90)\n",
    "    plt.show()\n",
    "\n",
    "    global my_list_pie\n",
    "    my_list_pie = sizes\n",
    "\n",
    "# Create sliders\n",
    "Zero = widgets.IntSlider(min=1, max=99, step=20, value=40.05, description='0 births', readout=False)\n",
    "One = widgets.IntSlider(min=1, max=99, step=20, value=34.61, description='1 birth', readout=False)\n",
    "Two = widgets.IntSlider(min=1, max=99, step=20, value=16.51, description='2 births', readout=False)\n",
    "Three = widgets.IntSlider(min=1, max=99, step=20, value=8.83, description='3+ births', readout=False)\n",
    "\n",
    "# Link sliders to chart\n",
    "widgets.interactive(update_chart, Zero=Zero, One=One, Two=Two, Three=Three)"
   ]
  },
  {
   "cell_type": "code",
   "execution_count": 19,
   "metadata": {},
   "outputs": [
    {
     "data": {
      "text/plain": [
       "[40, 34, 16, 8]"
      ]
     },
     "execution_count": 19,
     "metadata": {},
     "output_type": "execute_result"
    }
   ],
   "source": [
    "my_list_pie"
   ]
  },
  {
   "cell_type": "code",
   "execution_count": 20,
   "metadata": {},
   "outputs": [
    {
     "data": {
      "text/plain": [
       "[['0 births', 10107.6],\n",
       " ['1 birth', 8591.460000000001],\n",
       " ['2 births', 4043.04],\n",
       " ['3 births', 2021.52]]"
      ]
     },
     "execution_count": 20,
     "metadata": {},
     "output_type": "execute_result"
    }
   ],
   "source": [
    "Previous_Births_2012 = [['0 births'],['1 birth'],['2 births'],['3 births']]\n",
    "\n",
    "for i in range(0, len(my_list_pie)):\n",
    "    Previous_Births_2012[i].append( 25269*(my_list_pie[i]/100) )\n",
    "    \n",
    "Previous_Births_2012"
   ]
  },
  {
   "cell_type": "code",
   "execution_count": 21,
   "metadata": {},
   "outputs": [],
   "source": [
    "# Live Births\n",
    "#\n",
    "#\n",
    "#\n",
    "#\n"
   ]
  },
  {
   "cell_type": "code",
   "execution_count": 23,
   "metadata": {},
   "outputs": [
    {
     "data": {
      "application/vnd.jupyter.widget-view+json": {
       "model_id": "6aabebba3a8a48569eb1b4a7be0f12d5",
       "version_major": 2,
       "version_minor": 0
      },
      "text/plain": [
       "interactive(children=(FloatSlider(value=30000.0, description='Live Births:', max=40000.0, step=10000.0), Float…"
      ]
     },
     "metadata": {},
     "output_type": "display_data"
    },
    {
     "data": {
      "text/plain": [
       "<function __main__.update_plot(lb, xmin, xmax, lb_max)>"
      ]
     },
     "execution_count": 23,
     "metadata": {},
     "output_type": "execute_result"
    }
   ],
   "source": [
    "import ipywidgets as widgets\n",
    "import numpy as np\n",
    "import matplotlib.pyplot as plt\n",
    "\n",
    "# Create slider and text input widgets\n",
    "lb_slider = widgets.FloatSlider(\n",
    "    value=30000,\n",
    "    min=0,\n",
    "    max=40000,\n",
    "    step=10000,\n",
    "    description='Live Births:',\n",
    "    orientation='horizontal',\n",
    ")\n",
    "xmin_text = widgets.FloatText(\n",
    "    value=start_year,\n",
    "    description='x min:',\n",
    ")\n",
    "xmax_text = widgets.FloatText(\n",
    "    value=end_year,\n",
    "    description='x max:',\n",
    ")\n",
    "lb_max_text = widgets.FloatText(\n",
    "    value=40000,\n",
    "    description='Max Live Births:',\n",
    ")\n",
    "\n",
    "# Create a function to update the plot when the slider value or text inputs change\n",
    "def update_plot(lb, xmin, xmax, lb_max):\n",
    "    plt.clf()  # Clear the plot\n",
    "    plt.axhline(y=lb, color='red')  # Add a horizontal line at the current position\n",
    "    plt.xticks(np.arange(xmin, xmax+100, 100))\n",
    "    plt.xlim(xmin, xmax+10)  # Set the x-axis limits\n",
    "    plt.ylim(0, lb_max+10000)  # Set the y-axis limits\n",
    "    plt.show()\n",
    "    \n",
    "    global Live_Births_1\n",
    "    Live_Births_1 = [int(lb), int(xmin), int(xmax)]\n",
    "\n",
    "# Connect the slider and text input widgets to the update function\n",
    "widgets.interact(\n",
    "    update_plot,\n",
    "    lb=lb_slider,\n",
    "    xmin=xmin_text,\n",
    "    xmax=xmax_text,\n",
    "    lb_max=lb_max_text,\n",
    ")\n",
    "\n",
    "# NI min and max range (1.75, 2.39)"
   ]
  },
  {
   "cell_type": "code",
   "execution_count": null,
   "metadata": {},
   "outputs": [],
   "source": [
    "Live_Births_1887_2019 = []\n",
    "\n",
    "for i in range(Live_Births_1[1], Live_Births_1[2]+1):\n",
    "    Live_Births_1887_2019.append([i, Live_Births_1[0]])"
   ]
  },
  {
   "cell_type": "code",
   "execution_count": null,
   "metadata": {},
   "outputs": [],
   "source": [
    "# Fertility rate\n",
    "#\n",
    "#\n",
    "#\n",
    "#\n"
   ]
  },
  {
   "cell_type": "markdown",
   "metadata": {},
   "source": [
    "# TPFR"
   ]
  },
  {
   "cell_type": "code",
   "execution_count": null,
   "metadata": {
    "scrolled": true
   },
   "outputs": [],
   "source": [
    "import ipywidgets as widgets\n",
    "import numpy as np\n",
    "import matplotlib.pyplot as plt\n",
    "\n",
    "# Create slider and text input widgets\n",
    "tpfr_slider = widgets.FloatSlider(\n",
    "    value=2.1,\n",
    "    min=0,\n",
    "    max=3,\n",
    "    step=0.1,\n",
    "    description='TPFR:',\n",
    "    orientation='horizontal',\n",
    ")\n",
    "xmin_text = widgets.FloatText(\n",
    "    value=start_year,\n",
    "    description='x min:',\n",
    ")\n",
    "xmax_text = widgets.FloatText(\n",
    "    value=end_year,\n",
    "    description='x max:',\n",
    ")\n",
    "tpfr_max_text = widgets.FloatText(\n",
    "    value=3,\n",
    "    description='Max TPFR:',\n",
    ")\n",
    "\n",
    "# Create a function to update the plot when the slider value or text inputs change\n",
    "def update_plot(tpfr, xmin, xmax, tpfr_max):\n",
    "    plt.clf()  # Clear the plot\n",
    "    plt.axhline(y=tpfr, color='red')  # Add a horizontal line at the current position\n",
    "    plt.xlim(xmin, xmax+1)  # Set the x-axis limits\n",
    "    plt.ylim(0, tpfr_max+0.5)  # Set the y-axis limits\n",
    "    plt.show()\n",
    "    \n",
    "    global TPFR_1\n",
    "    TPFR_1 = [float(tpfr), int(xmin), int(xmax)]\n",
    "\n",
    "# Connect the slider and text input widgets to the update function\n",
    "widgets.interact(\n",
    "    update_plot,\n",
    "    tpfr=tpfr_slider,\n",
    "    xmin=xmin_text,\n",
    "    xmax=xmax_text,\n",
    "    tpfr_max=tpfr_max_text,\n",
    ")\n",
    "\n",
    "# NI min and max range (1.75, 2.39)"
   ]
  },
  {
   "cell_type": "code",
   "execution_count": null,
   "metadata": {},
   "outputs": [],
   "source": [
    "11+9+3+4+9+8+14+10+9+9+9+9+9+10+9+5+7+12+5+4+7+12+5+9+5+9+8+14+10+9+9+9+9+10+11+9+3\n"
   ]
  },
  {
   "cell_type": "code",
   "execution_count": null,
   "metadata": {},
   "outputs": [],
   "source": [
    "TPFR_Estimated = []\n",
    "\n",
    "for i in range(TPFR_1[1], TPFR_1[2]+1):\n",
    "    TPFR_Estimated.append([i, TPFR_1[0]])"
   ]
  },
  {
   "cell_type": "code",
   "execution_count": null,
   "metadata": {},
   "outputs": [],
   "source": [
    "# Total population\n",
    "#\n",
    "#\n",
    "#\n",
    "#"
   ]
  },
  {
   "cell_type": "code",
   "execution_count": null,
   "metadata": {},
   "outputs": [],
   "source": [
    "print(\"First Gen\\n\")"
   ]
  },
  {
   "cell_type": "code",
   "execution_count": null,
   "metadata": {},
   "outputs": [],
   "source": [
    "import numpy as np\n",
    "import matplotlib.pyplot as plt\n",
    "import ipywidgets as widgets\n",
    "from IPython.display import display\n",
    "\n",
    "# Define the start and end points of the line\n",
    "\n",
    "start_value = 123605\n",
    "end_value = 189366\n",
    "\n",
    "# Define a function that updates the plot based on the slope and y-intercept values\n",
    "def update_plot(slope, y_intercept):\n",
    "    x = np.arange(start_year, end_year+1, 1)\n",
    "    y = slope * (x - start_year) + y_intercept\n",
    "    plt.plot(x, y)\n",
    "    plt.xlabel('Year')\n",
    "    plt.ylabel('Value')\n",
    "    plt.xlim(start_year, end_year)\n",
    "    plt.ylim(0, end_value)\n",
    "    plt.show()\n",
    "    global outout\n",
    "    outout = [x,y]\n",
    "\n",
    "\n",
    "# Create the slider widgets\n",
    "slope_slider = widgets.FloatSlider(\n",
    "    value=150,\n",
    "    min=-200.0,\n",
    "    max=200.0,\n",
    "    step=50,\n",
    "    description='Slope:',\n",
    "    continuous_update=True,\n",
    "    orientation='horizontal',\n",
    "    readout=True,\n",
    "    readout_format='.1f'\n",
    ")\n",
    "\n",
    "y_intercept_slider = widgets.FloatSlider(\n",
    "    value=start_value,\n",
    "    min=100000,\n",
    "    max=200000,\n",
    "    step=25000,\n",
    "    description='Y-Intercept:',\n",
    "    continuous_update=True,\n",
    "    orientation='horizontal',\n",
    "    readout=True,\n",
    "    readout_format='.1f'\n",
    ")\n",
    "\n",
    "# # Create the widget container and display it\n",
    "# widget_container = widgets.VBox([slope_slider, y_intercept_slider])\n",
    "# display(widget_container)\n",
    "\n",
    "# Register the update function with the slider widgets\n",
    "widgets.interact(update_plot, slope=slope_slider, y_intercept=y_intercept_slider);\n"
   ]
  },
  {
   "cell_type": "code",
   "execution_count": null,
   "metadata": {},
   "outputs": [],
   "source": [
    "Interpolated_Population_1821_2019 = []\n",
    "\n",
    "for i in range(0, len(outout[0])):\n",
    "    Interpolated_Population_1821_2019.append([outout[0][i], int(outout[1][i])])"
   ]
  },
  {
   "cell_type": "code",
   "execution_count": null,
   "metadata": {},
   "outputs": [],
   "source": [
    "# Example for year 2012\n",
    "# ZeroBirths(PopulationForYear_n(38))\n",
    "    # 38 corresponds to NI_5yb_7119 file: Total females in 5-year age band (actual)\n",
    "    # As opposed to POPULATION AND MIGRATION ESTIMATES NORTHERN IRELAND (2012) – STATISTICAL REPORT\n",
    "        # (estimated) hence different values for \n",
    "\n",
    "        \n",
    "Distribution_2012 = [60700, 60900, 63500, 62700, 60400, 66300]\n",
    "Sum_Population = sum(Distribution_2012)/30\n",
    "\n",
    "Zero = Sum_Population - Previous_Births_2012[0][1]       "
   ]
  },
  {
   "cell_type": "code",
   "execution_count": null,
   "metadata": {},
   "outputs": [],
   "source": [
    "# Update to find 2012 - 15 afer adding in interpolated values prior to 1821\n",
    "\n",
    "\n",
    "# Mean of the 30 year age-band at 2012 (reference distribution)\n",
    "Mean30yrAgeBand2012 = []\n",
    "for i in range(281, 311):\n",
    "    Mean30yrAgeBand2012.append(Interpolated_Population_1821_2019[i][1])\n",
    "Mean30yrAgeBand2012 = sum(Mean30yrAgeBand2012)/30\n",
    "\n",
    "    \n",
    "# Function to generalise zero births for years 1821 to 2019\n",
    "def ZeroBirths(a):\n",
    "    \n",
    "    '''\n",
    "    INPUT:  a = Year\n",
    "            \n",
    "    OUTPUT: Zero births for cohort n\n",
    "    '''\n",
    "    \n",
    "    IndexValues = np.arange(0, len(Interpolated_Population_1821_2019))\n",
    "    \n",
    "    #print(\"Year {}\\n\".format(a))\n",
    "    for i in range(0, len(Interpolated_Population_1821_2019)):\n",
    "        \n",
    "        if a < end_year and a == Interpolated_Population_1821_2019[i][0]:\n",
    "            a = i                \n",
    "            return(Zero*(Interpolated_Population_1821_2019[a][1]/Mean30yrAgeBand2012))\n",
    "    "
   ]
  },
  {
   "cell_type": "code",
   "execution_count": null,
   "metadata": {},
   "outputs": [],
   "source": [
    "def Birth_Distribution(birth_year):\n",
    "    '''\n",
    "    INPUT: Year (1872 to 2003)\n",
    "    OUTPUT: Birth distribution for cohort born in birth_year\n",
    "    '''\n",
    "\n",
    "    out = []    \n",
    "    x = []\n",
    "    \n",
    "    # Within for loop, counter starts at 15\n",
    "    counter = 14\n",
    "    counter2 = birth_year + counter\n",
    "    \n",
    "    # Takes in values from 1872 to 2003\n",
    "\n",
    "    for i in range(0, len(Live_Births_1887_2019)):\n",
    "        if birth_year+15 == Live_Births_1887_2019[i][0]:\n",
    "            out.append([\"Born in: \", birth_year])\n",
    "            out.append([\"Zero births\", ZeroBirths(birth_year)])\n",
    "            \n",
    "            # Indexing for Live_Births_1887_2019\n",
    "            # Those born in 1872\n",
    "            birth_year = i-1\n",
    "            \n",
    "            for j in range(0, 30):\n",
    "                counter+=1\n",
    "                counter2+=1\n",
    "                birth_year+=1\n",
    "                \n",
    "                # Set limit to 2003\n",
    "                if birth_year >= len(Live_Births_1887_2019)-1:\n",
    "                    break\n",
    "                else:\n",
    "                    out.append([counter, (Estimated_Yearly_Distribution[j][1] * \n",
    "                                          Live_Births_1887_2019[birth_year][1])/\n",
    "                                          Live_Births_1887_2019[birth_year][1]])                   \n",
    "\n",
    "            return(out)        "
   ]
  },
  {
   "cell_type": "code",
   "execution_count": null,
   "metadata": {},
   "outputs": [],
   "source": []
  },
  {
   "cell_type": "code",
   "execution_count": null,
   "metadata": {},
   "outputs": [],
   "source": [
    "def Probability_Distribution(Birth_Distribution):\n",
    "    \n",
    "    f = Birth_Distribution[0][1]\n",
    "    b = Birth_Distribution\n",
    "    c = []\n",
    "    e = []\n",
    "    \n",
    "    \n",
    "    # Live births data is restricted from 1887 to 2019.   \n",
    "    # The birth distributions for 1887 to 1974 each span 30 years (typical fertile range)\n",
    "    # From 1975 to 2019 the fertile range decreases.\n",
    "    \n",
    "    # The birth distribution from the closest date is used to calculate it's proportions instead of\n",
    "    # list c, which is the length of the list being inspected.\n",
    "     \n",
    "#     if f > 1974:\n",
    "\n",
    "#         for i in range(1, len(b)):\n",
    "#             c.append(b[i][1])\n",
    "#         e.append([b[0][1]])    \n",
    "    \n",
    "#         for i in range(0, len(c)):\n",
    "#             e.append([b[i+1][0], c[i]/BirthDistribution_1974])\n",
    "\n",
    "#     else:\n",
    "    for i in range(1, len(b)):\n",
    "        c.append(b[i][1])\n",
    "    e.append([b[0][1]])\n",
    "    d = sum(c)    \n",
    "\n",
    "    for i in range(0, len(c)):\n",
    "        e.append([b[i+1][0], c[i]/d])  \n",
    "    return(e)"
   ]
  },
  {
   "cell_type": "code",
   "execution_count": null,
   "metadata": {},
   "outputs": [],
   "source": [
    "def Populate_under1872(year):\n",
    "    \n",
    "    a = Probability_Distribution(Birth_Distribution(1872))\n",
    "    counter = year + 14\n",
    "    babies = []\n",
    "    counter2 = 0\n",
    "    \n",
    "    for i in range(1, len(a)):\n",
    "        counter +=1\n",
    "        if random.uniform(0, 1) <= a[i][1]:\n",
    "            babies.append([\"Baby!\", counter, i])\n",
    "        else:\n",
    "            pass\n",
    "    \n",
    "    for j in range(0, len(babies)):\n",
    "        counter2+=1\n",
    "        babies[j].append(counter2)\n",
    "        \n",
    "    if babies == []:\n",
    "        pass\n",
    "    else:\n",
    "        return(babies)"
   ]
  },
  {
   "cell_type": "code",
   "execution_count": null,
   "metadata": {},
   "outputs": [],
   "source": [
    "Populate_under1872(1870)"
   ]
  },
  {
   "cell_type": "code",
   "execution_count": null,
   "metadata": {},
   "outputs": [],
   "source": [
    "def ScalePD(pd):\n",
    "    a = []\n",
    "    b = pd[0][0] - start_year\n",
    "    \n",
    "    for i in range(1, len(pd)):\n",
    "        \n",
    "        a.append(pd[i][1]*TPFR_Estimated[b][1])\n",
    "    return(a)\n",
    "\n",
    "\n",
    "def Populate(ProbabilityBirth_Distribution):\n",
    "    \n",
    "    '''\n",
    "    INPUT: Probability_Distribution(Birth_Distribution(Year))\n",
    "           Where year of birth ranges from 1872 - 2003\n",
    "\n",
    "    OUTPUT: Probability Distribution\n",
    "    '''\n",
    "    \n",
    "    a = ScalePD(ProbabilityBirth_Distribution)\n",
    "    \n",
    "    \n",
    "    for i in range(1, len(ProbabilityBirth_Distribution)):\n",
    "        ProbabilityBirth_Distribution[i][1] = a[i-1]\n",
    "        \n",
    "\n",
    "    counter = ProbabilityBirth_Distribution[0][0] + 14\n",
    "    \n",
    "    babies = []\n",
    "    counter2 = 0\n",
    "    \n",
    "    \n",
    "    for i in range(1, len(ProbabilityBirth_Distribution)):\n",
    "        counter+=1\n",
    "        if random.uniform(0, 1) <= ProbabilityBirth_Distribution[i][1]:\n",
    "            babies.append([\"Baby!\", counter, i])\n",
    "        else:\n",
    "            pass\n",
    "    \n",
    "    for j in range(0, len(babies)):\n",
    "        counter2+=1\n",
    "        babies[j].append(counter2)\n",
    "    \n",
    "    if babies == []:\n",
    "        pass\n",
    "    else:\n",
    "        return(babies)"
   ]
  },
  {
   "cell_type": "code",
   "execution_count": null,
   "metadata": {},
   "outputs": [],
   "source": [
    "# sum(death_distribution[0])"
   ]
  },
  {
   "cell_type": "code",
   "execution_count": null,
   "metadata": {},
   "outputs": [],
   "source": [
    "def Generate(x_Gen_Matched_List):\n",
    "    \n",
    "    test = []\n",
    "    \n",
    "    if x_Gen_Matched_List[0][1] < 1672:\n",
    "        babies = Populate_under1872(x_Gen_Matched_List[0][1])\n",
    "        \n",
    "    else:\n",
    "        babies = Populate(Probability_Distribution(Birth_Distribution(x_Gen_Matched_List[0][1])))\n",
    "    \n",
    "    \n",
    "    if babies is None:\n",
    "        pass\n",
    "    else:\n",
    "        for i in range(0, len(babies)):\n",
    "            ID = IDs[i]\n",
    "            CoupleID = IDs[i]\n",
    "            IDs.remove(ID)\n",
    "            \n",
    "            if x_Gen_Matched_List[0][6] == 0 and x_Gen_Matched_List[1][6] == 0:\n",
    "                FH = 0\n",
    "            elif x_Gen_Matched_List[0][6] == 1 and x_Gen_Matched_List[1][6] == 0:\n",
    "                x = random.uniform(0,1)\n",
    "                if x <=0.5:\n",
    "                    FH = 1\n",
    "                else:\n",
    "                    FH = 0\n",
    "            else:\n",
    "                x = random.uniform(0,1)\n",
    "                if x <=0.25:\n",
    "                    FH = 2\n",
    "                elif x > 0.25 and x <=0.75:\n",
    "                    FH = 1\n",
    "                else:\n",
    "                    FH = 0\n",
    "                    \n",
    "            d =  []\n",
    "            bd = babies[i][1]\n",
    "            \n",
    "            \n",
    "            \n",
    "            if babies[i][0] == 'Baby!' and babies[i][1] < 1920:\n",
    "                d =  (np.random.choice(np.arange(1,117), p=death_distribution))+babies[i][1]\n",
    "                \n",
    "                \n",
    "\n",
    "                \n",
    "            #elif babies[i][0] == 'Baby!' and babies[i][1] in range(1920, 1986):\n",
    "            #    d = (np.random.choice(np.arange(1,116), p=death_distribution[bd-1920]))+babies[i][1]\n",
    "            \n",
    "            else:\n",
    "                d = (np.random.choice(np.arange(1,117), p=death_distribution))+babies[i][1]\n",
    "                \n",
    "            \n",
    "            if babies[i][0] == 'Baby!':\n",
    "                test.append([x_Gen_Matched_List[0][0],\n",
    "                             babies[i][1],\n",
    "                             babies[i][3],\n",
    "                             ID,\n",
    "                             CoupleID,\n",
    "                             x_Gen_Matched_List[0][4],\n",
    "                             FH,\n",
    "                             d])\n",
    "        return(test)"
   ]
  },
  {
   "cell_type": "code",
   "execution_count": null,
   "metadata": {},
   "outputs": [],
   "source": [
    "def RemoveEmptyLists(n_Generation):\n",
    "    if n_Generation is None:\n",
    "        pass\n",
    "    \n",
    "    else:\n",
    "        for i in range(0, len(n_Generation)):\n",
    "            if n_Generation[i] == [None]:\n",
    "                n_Generation[i].remove(None)\n",
    "        for i in range(0, len(n_Generation)):\n",
    "            for index, item in enumerate(n_Generation):\n",
    "                if not item:\n",
    "                    del n_Generation[index]"
   ]
  },
  {
   "cell_type": "code",
   "execution_count": null,
   "metadata": {},
   "outputs": [],
   "source": [
    "Matched_List = []\n",
    "def Parents(person):\n",
    "    parents = [match for match in Matched_List if any(parent[0] == person[0] and parent[4] == person[5] for parent in match)]\n",
    "    return parents\n"
   ]
  },
  {
   "cell_type": "code",
   "execution_count": null,
   "metadata": {},
   "outputs": [],
   "source": [
    "Gen_Zero_Matched_List = []\n",
    "First_Gen_Matched_List = []\n",
    "Second_Gen_Matched_List = []\n",
    "Third_Gen_Matched_List = []\n",
    "Fourth_Gen_Matched_List = []\n",
    "Fifth_Gen_Matched_List = []\n",
    "Sixth_Gen_Matched_List = []\n",
    "Seventh_Gen_Matched_List = []\n",
    "Eighth_Gen_Matched_List = []\n",
    "Ninth_Gen_Matched_List = []\n",
    "Tenth_Gen_Matched_List = []\n",
    "Eleventh_Gen_Matched_List = []"
   ]
  },
  {
   "cell_type": "code",
   "execution_count": null,
   "metadata": {},
   "outputs": [],
   "source": [
    "def Match(population, x_gen_population_size, matched_list, unmatched_list, x, y):\n",
    "    '''\n",
    "    \n",
    "    '''\n",
    "    random.shuffle(population)\n",
    "    for i in range(0, math.floor(len(population)/2)):\n",
    "        if population != Gen_Zero_Population:\n",
    "            if Parents(population[i+1])[0][0][0] and Parents(population[i+1])[0][1][0] != population[-i][0] and (population[i+1][1] - population[-i][1] in range(x,y)):\n",
    "                matched_list.append([population[i+1], population[-i]])\n",
    "            else:\n",
    "                unmatched_list.append(population[i+1])\n",
    "                unmatched_list.append(population[-i])\n",
    "    \n",
    "        elif population[i+1][0] != population[-i][0] and (population[i+1][1] - population[-i][1] in range(x,y)):\n",
    "            matched_list.append([population[i+1], population[-i]])\n",
    "        else:\n",
    "            unmatched_list.append(population[i+1])\n",
    "            unmatched_list.append(population[-i])\n",
    "    print(\"{}% matched\".format(round((len(matched_list)/(x_gen_population_size/2)*100))))\n",
    "    \n",
    "    for i in range(0, len(matched_list)):\n",
    "        matched_list[i][1][4] = matched_list[i][0][4]\n",
    "\n",
    "    random.shuffle(unmatched_list)\n",
    "\n",
    "    return(matched_list, unmatched_list)"
   ]
  },
  {
   "cell_type": "code",
   "execution_count": null,
   "metadata": {},
   "outputs": [],
   "source": [
    "def Remove_Impossible(x_generation):\n",
    "    \"\"\"\n",
    "    Prevents couples from generating beyond life length (date of death)\n",
    "    \"\"\"\n",
    "    max_death_date = max([Parents(ind)[0][0][7] for ind in x_generation] + [Parents(ind)[0][1][7] for ind in x_generation], default=0)\n",
    "    x = [ind for ind in x_generation if ind[1] <= max_death_date]\n",
    "    x_generation.clear()\n",
    "    x_generation.extend(x)\n"
   ]
  },
  {
   "cell_type": "code",
   "execution_count": null,
   "metadata": {},
   "outputs": [],
   "source": []
  },
  {
   "cell_type": "code",
   "execution_count": null,
   "metadata": {},
   "outputs": [],
   "source": [
    "First_Gen_FH = []\n",
    "First_Gen = []\n",
    "Gen_Zero = []\n",
    "Gen_Zero_FH = []\n",
    "\n",
    "for i in range(0, 45):\n",
    "    Gen_Zero.append([])\n",
    "    Gen_Zero_FH.append([])\n",
    "    \n",
    "#len(f_ages)"
   ]
  },
  {
   "cell_type": "markdown",
   "metadata": {},
   "source": [
    "# Parameter 2: \n",
    "## Generation Zero population proportion"
   ]
  },
  {
   "cell_type": "code",
   "execution_count": null,
   "metadata": {},
   "outputs": [],
   "source": [
    "test = []\n",
    "test_x = []\n",
    "for i in range(0, 45):\n",
    "\n",
    "    Birthyear = 1744 -f_ages[i][0]\n",
    "    # Population_Size = round(f_ages[i][1]*(popsize)*(1/250))\n",
    "    Population_Size = round(f_ages[i][1]*(popsize))\n",
    "    \n",
    "    test.append(Population_Size)\n",
    "    test_x.append(i)\n",
    "    \n",
    "    for j in range(Latest_Family_ID+1, Latest_Family_ID+Population_Size+1):\n",
    "        Latest_Family_ID +=1\n",
    "        fh_c = np.random.choice(np.arange(1,251))\n",
    "        if fh_c == 1:\n",
    "            Gen_Zero_FH[i].append([j, Birthyear, 1, j+1, j+2, j, 1, (np.random.choice(np.arange(1,117), p=death_distribution))+Birthyear])\n",
    "        else:\n",
    "            Gen_Zero[i].append([j, Birthyear, 1, j+1, j+2, j, 0, (np.random.choice(np.arange(1,117), p=death_distribution))+Birthyear])\n",
    "        \n",
    "        #Gen_Zero_FH[i].append([j, Birthyear, 1, j+1, j+2, j, 1, (np.random.choice(np.arange(1,116), p=death_distribution[56]))+Birthyear])"
   ]
  },
  {
   "cell_type": "code",
   "execution_count": null,
   "metadata": {},
   "outputs": [],
   "source": [
    "Gen_Zero_Population = []\n",
    "\n",
    "for i in range(0, len(Gen_Zero_FH)):\n",
    "    for j in range(0, len(Gen_Zero_FH[i])):\n",
    "        Gen_Zero_Population.append(Gen_Zero_FH[i][j])\n",
    "\n",
    "for i in range(0, len(Gen_Zero)):\n",
    "    for j in range(0, len(Gen_Zero[i])):\n",
    "        Gen_Zero_Population.append(Gen_Zero[i][j])\n",
    "Gen_Zero_Population_Size = len(Gen_Zero_Population)"
   ]
  },
  {
   "cell_type": "markdown",
   "metadata": {},
   "source": [
    "# Gen_Zero"
   ]
  },
  {
   "cell_type": "code",
   "execution_count": null,
   "metadata": {},
   "outputs": [],
   "source": []
  },
  {
   "cell_type": "code",
   "execution_count": null,
   "metadata": {},
   "outputs": [],
   "source": []
  },
  {
   "cell_type": "code",
   "execution_count": null,
   "metadata": {},
   "outputs": [],
   "source": [
    "#len(Gen_Zero_Population)"
   ]
  },
  {
   "cell_type": "code",
   "execution_count": null,
   "metadata": {},
   "outputs": [],
   "source": [
    "Gen_Zero_Matched_List = []\n",
    "Gen_Zero_Unmatched_List = []\n",
    "Gen_Zero_Matched_List, Gen_Zero_Unmatched_List = Match(Gen_Zero_Population, Gen_Zero_Population_Size,\n",
    "                                                       Gen_Zero_Matched_List, Gen_Zero_Unmatched_List, -1, 1)"
   ]
  },
  {
   "cell_type": "code",
   "execution_count": null,
   "metadata": {},
   "outputs": [],
   "source": [
    "len(Gen_Zero_Unmatched_List)"
   ]
  },
  {
   "cell_type": "code",
   "execution_count": null,
   "metadata": {},
   "outputs": [],
   "source": [
    "def Gen_Zero_Match(population, x_gen_population, matched_list, unmatched_list, x, y):\n",
    "    \n",
    "    x_gen_population_size = len(x_gen_population)\n",
    "    random.shuffle(population)\n",
    "    for i in range(0, math.floor(len(population)/2)):\n",
    "        if population[i+1][1] - population[-i][1] in range(x,y):\n",
    "            matched_list.append([population[i+1], population[-i]])\n",
    "        else:\n",
    "            unmatched_list.append(population[i+1])\n",
    "            unmatched_list.append(population[-i])\n",
    "            \n",
    "    print(\"{}% matched\".format(round((len(matched_list)/(x_gen_population_size/2)*100),2)))\n",
    "    \n",
    "    \n",
    "    for i in range(0, len(matched_list)):\n",
    "        matched_list[i][1][4] = matched_list[i][0][4]\n",
    "\n",
    "    random.shuffle(unmatched_list)\n",
    "\n",
    "    return(matched_list, unmatched_list)"
   ]
  },
  {
   "cell_type": "code",
   "execution_count": null,
   "metadata": {},
   "outputs": [],
   "source": []
  },
  {
   "cell_type": "code",
   "execution_count": null,
   "metadata": {},
   "outputs": [],
   "source": [
    "Gen_Zero_Unmatched_List_2 = []\n",
    "Gen_Zero_Unmatched_List_3 = []\n",
    "Gen_Zero_Unmatched_List_4 = []\n",
    "Gen_Zero_Unmatched_List_5 = []\n",
    "Gen_Zero_Unmatched_List_6 = []\n",
    "Gen_Zero_Unmatched_List_7 = []\n",
    "Gen_Zero_Unmatched_List_8 = []\n",
    "Gen_Zero_Unmatched_List_9 = []\n",
    "Gen_Zero_Unmatched_List_10 = []\n",
    "Gen_Zero_Unmatched_List_11 = []\n",
    "Gen_Zero_Unmatched_List_12 = []\n",
    "Gen_Zero_Unmatched_List_13 = []\n",
    "Gen_Zero_Unmatched_List_14 = []\n",
    "Gen_Zero_Unmatched_List_15 = []\n",
    "Gen_Zero_Unmatched_List_16 = []\n",
    "Gen_Zero_Unmatched_List_17 = []\n",
    "Gen_Zero_Unmatched_List_18 = []\n",
    "Gen_Zero_Unmatched_List_19 = []\n",
    "\n",
    "\n",
    "Gen_Zero_Matched_List_2, Gen_Zero_Unmatched_List_2 = Gen_Zero_Match(Gen_Zero_Unmatched_List,\n",
    "                                                                    Gen_Zero_Population,\n",
    "                                                                    Gen_Zero_Matched_List,\n",
    "                                                                    Gen_Zero_Unmatched_List_2, \n",
    "                                                                    -2, 2)\n",
    "Gen_Zero_Matched_List_3, Gen_Zero_Unmatched_List_3 = Gen_Zero_Match(Gen_Zero_Unmatched_List_2,\n",
    "                                                                    Gen_Zero_Population,\n",
    "                                                                    Gen_Zero_Matched_List,\n",
    "                                                                    Gen_Zero_Unmatched_List_3, \n",
    "                                                                    -3, 3)\n",
    "Gen_Zero_Matched_List_4, Gen_Zero_Unmatched_List_4 = Gen_Zero_Match(Gen_Zero_Unmatched_List_3,\n",
    "                                                                    Gen_Zero_Population,\n",
    "                                                                    Gen_Zero_Matched_List,\n",
    "                                                                    Gen_Zero_Unmatched_List_4, \n",
    "                                                                    -4, 4)\n",
    "Gen_Zero_Matched_List_5, Gen_Zero_Unmatched_List_5 = Gen_Zero_Match(Gen_Zero_Unmatched_List_4,\n",
    "                                                                    Gen_Zero_Population,\n",
    "                                                                    Gen_Zero_Matched_List,\n",
    "                                                                    Gen_Zero_Unmatched_List_5, \n",
    "                                                                    -5, 5)\n",
    "Gen_Zero_Matched_List_6, Gen_Zero_Unmatched_List_6 = Gen_Zero_Match(Gen_Zero_Unmatched_List_5,\n",
    "                                                                    Gen_Zero_Population,\n",
    "                                                                    Gen_Zero_Matched_List,\n",
    "                                                                    Gen_Zero_Unmatched_List_6, \n",
    "                                                                    -6, 6)\n",
    "Gen_Zero_Matched_List_7, Gen_Zero_Unmatched_List_7 = Gen_Zero_Match(Gen_Zero_Unmatched_List_6,\n",
    "                                                                    Gen_Zero_Population,\n",
    "                                                                    Gen_Zero_Matched_List,\n",
    "                                                                    Gen_Zero_Unmatched_List_7, \n",
    "                                                                    -7, 7)\n",
    "Gen_Zero_Matched_List_8, Gen_Zero_Unmatched_List_8 = Gen_Zero_Match(Gen_Zero_Unmatched_List_7,\n",
    "                                                                    Gen_Zero_Population,\n",
    "                                                                    Gen_Zero_Matched_List,\n",
    "                                                                    Gen_Zero_Unmatched_List_8, \n",
    "                                                                    -8, 8)\n",
    "Gen_Zero_Matched_List_9, Gen_Zero_Unmatched_List_9 = Gen_Zero_Match(Gen_Zero_Unmatched_List_8,\n",
    "                                                                    Gen_Zero_Population,\n",
    "                                                                    Gen_Zero_Matched_List,\n",
    "                                                                    Gen_Zero_Unmatched_List_9, \n",
    "                                                                    -9, 9)\n",
    "Gen_Zero_Matched_List_10, Gen_Zero_Unmatched_List_10 = Gen_Zero_Match(Gen_Zero_Unmatched_List_9,\n",
    "                                                                    Gen_Zero_Population,\n",
    "                                                                    Gen_Zero_Matched_List,\n",
    "                                                                    Gen_Zero_Unmatched_List_10, \n",
    "                                                                    -10, 10)\n",
    "Gen_Zero_Matched_List_11, Gen_Zero_Unmatched_List_11 = Gen_Zero_Match(Gen_Zero_Unmatched_List_10,\n",
    "                                                                    Gen_Zero_Population,\n",
    "                                                                    Gen_Zero_Matched_List,\n",
    "                                                                    Gen_Zero_Unmatched_List_11, \n",
    "                                                                    -9, 9)\n",
    "Gen_Zero_Matched_List_12, Gen_Zero_Unmatched_List_12 = Gen_Zero_Match(Gen_Zero_Unmatched_List_11,\n",
    "                                                                    Gen_Zero_Population,\n",
    "                                                                    Gen_Zero_Matched_List,\n",
    "                                                                    Gen_Zero_Unmatched_List_12, \n",
    "                                                                    -8, 8)\n",
    "Gen_Zero_Matched_List_13, Gen_Zero_Unmatched_List_13 = Gen_Zero_Match(Gen_Zero_Unmatched_List_12,\n",
    "                                                                    Gen_Zero_Population,\n",
    "                                                                    Gen_Zero_Matched_List,\n",
    "                                                                    Gen_Zero_Unmatched_List_13, \n",
    "                                                                    -7, 7)\n",
    "Gen_Zero_Matched_List_14, Gen_Zero_Unmatched_List_14 = Gen_Zero_Match(Gen_Zero_Unmatched_List_13,\n",
    "                                                                    Gen_Zero_Population,\n",
    "                                                                    Gen_Zero_Matched_List,\n",
    "                                                                    Gen_Zero_Unmatched_List_14, \n",
    "                                                                    -6, 6)\n",
    "Gen_Zero_Matched_List_15, Gen_Zero_Unmatched_List_15 = Gen_Zero_Match(Gen_Zero_Unmatched_List_14,\n",
    "                                                                    Gen_Zero_Population,\n",
    "                                                                    Gen_Zero_Matched_List,\n",
    "                                                                    Gen_Zero_Unmatched_List_15, \n",
    "                                                                    -5, 5)\n",
    "\n",
    "Gen_Zero_Matched_List_16, Gen_Zero_Unmatched_List_16 = Gen_Zero_Match(Gen_Zero_Unmatched_List_15,\n",
    "                                                                    Gen_Zero_Population,\n",
    "                                                                    Gen_Zero_Matched_List,\n",
    "                                                                    Gen_Zero_Unmatched_List_16, \n",
    "                                                                    -6, 6)\n",
    "Gen_Zero_Matched_List_17, Gen_Zero_Unmatched_List_17 = Gen_Zero_Match(Gen_Zero_Unmatched_List_16,\n",
    "                                                                    Gen_Zero_Population,\n",
    "                                                                    Gen_Zero_Matched_List,\n",
    "                                                                    Gen_Zero_Unmatched_List_17, \n",
    "                                                                    -7, 7)\n",
    "Gen_Zero_Matched_List_18, Gen_Zero_Unmatched_List_18 = Gen_Zero_Match(Gen_Zero_Unmatched_List_17,\n",
    "                                                                    Gen_Zero_Population,\n",
    "                                                                    Gen_Zero_Matched_List,\n",
    "                                                                    Gen_Zero_Unmatched_List_18, \n",
    "                                                                    -8, 8)\n",
    "Gen_Zero_Matched_List_19, Gen_Zero_Unmatched_List_19 = Gen_Zero_Match(Gen_Zero_Unmatched_List_18,\n",
    "                                                                    Gen_Zero_Population,\n",
    "                                                                    Gen_Zero_Matched_List,\n",
    "                                                                    Gen_Zero_Unmatched_List_19, \n",
    "                                                                    -9, 9)"
   ]
  },
  {
   "cell_type": "code",
   "execution_count": null,
   "metadata": {},
   "outputs": [],
   "source": [
    "for i in range(0, len(Gen_Zero_Matched_List)):\n",
    "    Matched_List.append(Gen_Zero_Matched_List[i])\n",
    "    if Gen_Zero_Matched_List[i][1][-2] == 1:\n",
    "        Gen_Zero_Matched_List[i] = [Gen_Zero_Matched_List[i][1], Gen_Zero_Matched_List[i][0]]"
   ]
  },
  {
   "cell_type": "code",
   "execution_count": null,
   "metadata": {},
   "outputs": [],
   "source": []
  },
  {
   "cell_type": "code",
   "execution_count": null,
   "metadata": {},
   "outputs": [],
   "source": []
  },
  {
   "cell_type": "code",
   "execution_count": null,
   "metadata": {},
   "outputs": [],
   "source": [
    "First_Gen = []\n",
    "for i in range(0, len(Gen_Zero_Matched_List)):\n",
    "    #print(Gen_Zero_Matched_List[i], 'y')\n",
    "    First_Gen.append(Generate(Gen_Zero_Matched_List[i]))\n",
    "RemoveEmptyLists(First_Gen)"
   ]
  },
  {
   "cell_type": "code",
   "execution_count": null,
   "metadata": {},
   "outputs": [],
   "source": [
    "test = []\n",
    "for i in range(0, len(First_Gen)):\n",
    "    for j in range(0, len(First_Gen[i])):\n",
    "        test.append(First_Gen[i][j])\n",
    "First_Gen = test\n",
    "del(test)"
   ]
  },
  {
   "cell_type": "code",
   "execution_count": null,
   "metadata": {},
   "outputs": [],
   "source": [
    "Remove_Impossible(First_Gen)"
   ]
  },
  {
   "cell_type": "code",
   "execution_count": null,
   "metadata": {
    "scrolled": false
   },
   "outputs": [],
   "source": [
    "First_Gen_Population_Size = len(First_Gen)\n",
    "\n",
    "First_Gen_Matched_List = []\n",
    "First_Gen_Unmatched_List = []\n",
    "First_Gen_Matched_List, First_Gen_Unmatched_List = Match(First_Gen, First_Gen_Population_Size,\n",
    "                                                       First_Gen_Matched_List, First_Gen_Unmatched_List, age_g[0], age_g[1])\n",
    "First_Gen_Unmatched_List_2 = []\n",
    "First_Gen_Matched_List_2, First_Gen_Unmatched_List_2 = Match(First_Gen_Unmatched_List, First_Gen_Population_Size,\n",
    "                                                           First_Gen_Matched_List, First_Gen_Unmatched_List_2, age_g[0], age_g[1])\n",
    "\n",
    "First_Gen_Unmatched_List_3 = []\n",
    "First_Gen_Matched_List_3, First_Gen_Unmatched_List_3 = Match(First_Gen_Unmatched_List_2, First_Gen_Population_Size,\n",
    "                                                           First_Gen_Matched_List_2, First_Gen_Unmatched_List_3, age_g[0], age_g[1])\n",
    "\n",
    "First_Gen_Unmatched_List_4 = []\n",
    "First_Gen_Matched_List_4, First_Gen_Unmatched_List_4 = Match(First_Gen_Unmatched_List_3, First_Gen_Population_Size,\n",
    "                                                           First_Gen_Matched_List_3, First_Gen_Unmatched_List_4, age_g[0], age_g[1])\n",
    "\n",
    "\n",
    "First_Gen_Unmatched_List_5 = []\n",
    "First_Gen_Matched_List_5, First_Gen_Unmatched_List_5 = Match(First_Gen_Unmatched_List_4, First_Gen_Population_Size,\n",
    "                                                           First_Gen_Matched_List_4, First_Gen_Unmatched_List_5, age_g[0], age_g[1])\n",
    "\n",
    "\n",
    "First_Gen_Unmatched_List_6 = []\n",
    "First_Gen_Matched_List_6, First_Gen_Unmatched_List_6 = Match(First_Gen_Unmatched_List_5, First_Gen_Population_Size,\n",
    "                                                           First_Gen_Matched_List_5, First_Gen_Unmatched_List_6, age_g[0], age_g[1])\n",
    "\n",
    "\n",
    "for i in range(0, len(First_Gen_Matched_List)):\n",
    "    if First_Gen_Matched_List[i][1][-2] == 1:\n",
    "        First_Gen_Matched_List[i] = [First_Gen_Matched_List[i][1], First_Gen_Matched_List[i][0]]\n",
    "\n",
    "\n",
    "x = []\n",
    "for i in range(0, len(Gen_Zero_Matched_List)):\n",
    "    x.append(Gen_Zero_Matched_List[i][0][1] - Gen_Zero_Matched_List[i][1][1])"
   ]
  },
  {
   "cell_type": "code",
   "execution_count": null,
   "metadata": {},
   "outputs": [],
   "source": [
    "Second_Gen = []\n",
    "test = []\n",
    "for i in range(0, len(First_Gen_Matched_List)):\n",
    "    Matched_List.append(First_Gen_Matched_List[i])\n",
    "    Second_Gen.append(Generate(First_Gen_Matched_List[i]))\n",
    "RemoveEmptyLists(Second_Gen)\n",
    "\n",
    "\n",
    "\n",
    "test = []\n",
    "for i in range(0, len(Second_Gen)):\n",
    "    for j in range(0, len(Second_Gen[i])):\n",
    "        test.append(Second_Gen[i][j])\n",
    "Second_Gen = test\n",
    "del(test)"
   ]
  },
  {
   "cell_type": "code",
   "execution_count": null,
   "metadata": {},
   "outputs": [],
   "source": [
    "Remove_Impossible(Second_Gen)"
   ]
  },
  {
   "cell_type": "code",
   "execution_count": null,
   "metadata": {
    "scrolled": true
   },
   "outputs": [],
   "source": [
    "Second_Gen_Population_Size = len(Second_Gen)\n",
    "\n",
    "\n",
    "Second_Gen_Matched_List = []\n",
    "Second_Gen_Unmatched_List = []\n",
    "Second_Gen_Matched_List, Second_Gen_Unmatched_List = Match(Second_Gen, Second_Gen_Population_Size,\n",
    "                                                       Second_Gen_Matched_List, Second_Gen_Unmatched_List, age_g[0], age_g[1])\n",
    "\n",
    "Second_Gen_Unmatched_List_2 = []\n",
    "Second_Gen_Matched_List_2, Second_Gen_Unmatched_List_2 = Match(Second_Gen_Unmatched_List, Second_Gen_Population_Size,\n",
    "                                                           Second_Gen_Matched_List, Second_Gen_Unmatched_List_2, age_g[0], age_g[1])\n",
    "\n",
    "Second_Gen_Unmatched_List_3 = []\n",
    "Second_Gen_Matched_List_3, Second_Gen_Unmatched_List_3 = Match(Second_Gen_Unmatched_List_2, Second_Gen_Population_Size,\n",
    "                                                           Second_Gen_Matched_List_2, Second_Gen_Unmatched_List_3, age_g[0], age_g[1])\n",
    "\n",
    "\n",
    "Second_Gen_Unmatched_List_4 = []\n",
    "Second_Gen_Matched_List_4, Second_Gen_Unmatched_List_4 = Match(Second_Gen_Unmatched_List_3, Second_Gen_Population_Size,\n",
    "                                                           Second_Gen_Matched_List_3, Second_Gen_Unmatched_List_4, age_g[0], age_g[1])\n",
    "\n",
    "\n",
    "Second_Gen_Unmatched_List_5 = []\n",
    "Second_Gen_Matched_List_5, Second_Gen_Unmatched_List_5 = Match(Second_Gen_Unmatched_List_4, Second_Gen_Population_Size,\n",
    "                                                           Second_Gen_Matched_List_4, Second_Gen_Unmatched_List_5, age_g[0], age_g[1])\n",
    "\n",
    "Second_Gen_Unmatched_List_6 = []\n",
    "Second_Gen_Matched_List_6, Second_Gen_Unmatched_List_6 = Match(Second_Gen_Unmatched_List_5, Second_Gen_Population_Size,\n",
    "                                                           Second_Gen_Matched_List_5, Second_Gen_Unmatched_List_6, age_g[0], age_g[1])\n",
    "\n",
    "\n",
    "for i in range(0, len(Second_Gen_Matched_List)):\n",
    "    if Second_Gen_Matched_List[i][1][-2] == 1:\n",
    "        Second_Gen_Matched_List[i] = [Second_Gen_Matched_List[i][1], Second_Gen_Matched_List[i][0]]\n"
   ]
  },
  {
   "cell_type": "code",
   "execution_count": null,
   "metadata": {},
   "outputs": [],
   "source": [
    "Third_Gen = []\n",
    "test = []\n",
    "for i in range(0, len(Second_Gen_Matched_List)):\n",
    "    Matched_List.append(Second_Gen_Matched_List[i])\n",
    "    if Second_Gen_Matched_List[i][0][1] < (end_year - 15):\n",
    "        Third_Gen.append(Generate(Second_Gen_Matched_List[i]))\n",
    "    else:\n",
    "        pass\n",
    "RemoveEmptyLists(Third_Gen)\n",
    "\n",
    "\n",
    "\n",
    "test = []\n",
    "for i in range(0, len(Third_Gen)):\n",
    "    for j in range(0, len(Third_Gen[i])):\n",
    "        test.append(Third_Gen[i][j])\n",
    "Third_Gen = test\n",
    "del(test)"
   ]
  },
  {
   "cell_type": "code",
   "execution_count": null,
   "metadata": {},
   "outputs": [],
   "source": [
    "Remove_Impossible(Third_Gen)"
   ]
  },
  {
   "cell_type": "code",
   "execution_count": null,
   "metadata": {},
   "outputs": [],
   "source": [
    "Third_Gen_Population_Size = len(Third_Gen)\n",
    "\n",
    "Third_Gen_Matched_List = []\n",
    "Third_Gen_Unmatched_List = []\n",
    "Third_Gen_Matched_List, Third_Gen_Unmatched_List = Match(Third_Gen, Third_Gen_Population_Size,\n",
    "                                                       Third_Gen_Matched_List, Third_Gen_Unmatched_List, age_g[0], age_g[1])\n",
    "\n",
    "Third_Gen_Unmatched_List_2 = []\n",
    "Third_Gen_Matched_List_2, Third_Gen_Unmatched_List_2 = Match(Third_Gen_Unmatched_List, Third_Gen_Population_Size,\n",
    "                                                           Third_Gen_Matched_List, Third_Gen_Unmatched_List_2, age_g[0], age_g[1])\n",
    "\n",
    "Third_Gen_Unmatched_List_3 = []\n",
    "Third_Gen_Matched_List_3, Third_Gen_Unmatched_List_3 = Match(Third_Gen_Unmatched_List_2, Third_Gen_Population_Size,\n",
    "                                                           Third_Gen_Matched_List_2, Third_Gen_Unmatched_List_3, age_g[0], age_g[1])\n",
    "\n",
    "Third_Gen_Unmatched_List_4 = []\n",
    "Third_Gen_Matched_List_4, Third_Gen_Unmatched_List_4 = Match(Third_Gen_Unmatched_List_3, Third_Gen_Population_Size,\n",
    "                                                           Third_Gen_Matched_List_3, Third_Gen_Unmatched_List_4, age_g[0], age_g[1])\n",
    "\n",
    "\n",
    "Third_Gen_Unmatched_List_5 = []\n",
    "Third_Gen_Matched_List_5, Third_Gen_Unmatched_List_5 = Match(Third_Gen_Unmatched_List_4, Third_Gen_Population_Size,\n",
    "                                                           Third_Gen_Matched_List_4, Third_Gen_Unmatched_List_5, age_g[0], age_g[1])\n",
    "\n",
    "Third_Gen_Unmatched_List_6 = []\n",
    "Third_Gen_Matched_List_6, Third_Gen_Unmatched_List_6 = Match(Third_Gen_Unmatched_List_5, Third_Gen_Population_Size,\n",
    "                                                           Third_Gen_Matched_List_5, Third_Gen_Unmatched_List_6, age_g[0], age_g[1])\n",
    "\n",
    "\n",
    "for i in range(0, len(Third_Gen_Matched_List)):\n",
    "    if Third_Gen_Matched_List[i][1][-2] == 1:\n",
    "        Third_Gen_Matched_List[i] = [Third_Gen_Matched_List[i][1], Third_Gen_Matched_List[i][0]]"
   ]
  },
  {
   "cell_type": "code",
   "execution_count": null,
   "metadata": {},
   "outputs": [],
   "source": [
    "Fourth_Gen = []\n",
    "test = []\n",
    "for i in range(0, len(Third_Gen_Matched_List)):\n",
    "    Matched_List.append(Third_Gen_Matched_List[i])\n",
    "    if Third_Gen_Matched_List[i][0][1] < (end_year-15):\n",
    "        Fourth_Gen.append(Generate(Third_Gen_Matched_List[i]))\n",
    "    else:\n",
    "        pass\n",
    "RemoveEmptyLists(Fourth_Gen)\n",
    "\n",
    "test = []\n",
    "for i in range(0, len(Fourth_Gen)):\n",
    "    for j in range(0, len(Fourth_Gen[i])):\n",
    "        test.append(Fourth_Gen[i][j])\n",
    "Fourth_Gen = test\n",
    "del(test)"
   ]
  },
  {
   "cell_type": "code",
   "execution_count": null,
   "metadata": {},
   "outputs": [],
   "source": [
    "Remove_Impossible(Fourth_Gen)"
   ]
  },
  {
   "cell_type": "code",
   "execution_count": null,
   "metadata": {},
   "outputs": [],
   "source": [
    "Fourth_Gen_Population_Size = len(Fourth_Gen)\n",
    "\n",
    "Fourth_Gen_Matched_List = []\n",
    "Fourth_Gen_Unmatched_List = []\n",
    "Fourth_Gen_Matched_List, Fourth_Gen_Unmatched_List = Match(Fourth_Gen, Fourth_Gen_Population_Size,\n",
    "                                                       Fourth_Gen_Matched_List, Fourth_Gen_Unmatched_List, age_g[0], age_g[1])\n",
    "\n",
    "Fourth_Gen_Unmatched_List_2 = []\n",
    "Fourth_Gen_Matched_List_2, Fourth_Gen_Unmatched_List_2 = Match(Fourth_Gen_Unmatched_List, Fourth_Gen_Population_Size,\n",
    "                                                           Fourth_Gen_Matched_List, Fourth_Gen_Unmatched_List_2, age_g[0], age_g[1])\n",
    "\n",
    "Fourth_Gen_Unmatched_List_3 = []\n",
    "Fourth_Gen_Matched_List_3, Fourth_Gen_Unmatched_List_3 = Match(Fourth_Gen_Unmatched_List_2, Fourth_Gen_Population_Size,\n",
    "                                                           Fourth_Gen_Matched_List_2, Fourth_Gen_Unmatched_List_3, age_g[0], age_g[1])\n",
    "\n",
    "\n",
    "Fourth_Gen_Unmatched_List_4 = []\n",
    "Fourth_Gen_Matched_List_4, Fourth_Gen_Unmatched_List_4 = Match(Fourth_Gen_Unmatched_List_3, Fourth_Gen_Population_Size,\n",
    "                                                           Fourth_Gen_Matched_List_3, Fourth_Gen_Unmatched_List_4, age_g[0], age_g[1])\n",
    "\n",
    "\n",
    "Fourth_Gen_Unmatched_List_5 = []\n",
    "Fourth_Gen_Matched_List_5, Fourth_Gen_Unmatched_List_5 = Match(Fourth_Gen_Unmatched_List_4, Fourth_Gen_Population_Size,\n",
    "                                                           Fourth_Gen_Matched_List_4, Fourth_Gen_Unmatched_List_5, age_g[0], age_g[1])\n",
    "\n",
    "Fourth_Gen_Unmatched_List_6 = []\n",
    "Fourth_Gen_Matched_List_6, Fourth_Gen_Unmatched_List_6 = Match(Fourth_Gen_Unmatched_List_5, Fourth_Gen_Population_Size,\n",
    "                                                           Fourth_Gen_Matched_List_5, Fourth_Gen_Unmatched_List_6, age_g[0], age_g[1])\n",
    "\n",
    "\n",
    "\n",
    "for i in range(0, len(Fourth_Gen_Matched_List)):\n",
    "    if Fourth_Gen_Matched_List[i][1][-2] == 1:\n",
    "        Fourth_Gen_Matched_List[i] = [Fourth_Gen_Matched_List[i][1], Fourth_Gen_Matched_List[i][0]]"
   ]
  },
  {
   "cell_type": "code",
   "execution_count": null,
   "metadata": {},
   "outputs": [],
   "source": [
    "Fifth_Gen = []\n",
    "test = []\n",
    "for i in range(0, len(Fourth_Gen_Matched_List)):\n",
    "    Matched_List.append(Fourth_Gen_Matched_List[i])\n",
    "    if Fourth_Gen_Matched_List[i][0][1] < (end_year-15):\n",
    "        Fifth_Gen.append(Generate(Fourth_Gen_Matched_List[i]))\n",
    "    else:\n",
    "        pass\n",
    "RemoveEmptyLists(Fifth_Gen)\n",
    "\n",
    "test = []\n",
    "for i in range(0, len(Fifth_Gen)):\n",
    "    for j in range(0, len(Fifth_Gen[i])):\n",
    "        test.append(Fifth_Gen[i][j])\n",
    "Fifth_Gen = test\n",
    "del(test)"
   ]
  },
  {
   "cell_type": "code",
   "execution_count": null,
   "metadata": {},
   "outputs": [],
   "source": [
    "Remove_Impossible(Fifth_Gen)"
   ]
  },
  {
   "cell_type": "code",
   "execution_count": null,
   "metadata": {
    "scrolled": true
   },
   "outputs": [],
   "source": [
    "Fifth_Gen_Population_Size = len(Fifth_Gen)\n",
    "\n",
    "Fifth_Gen_Matched_List = []\n",
    "Fifth_Gen_Unmatched_List = []\n",
    "Fifth_Gen_Matched_List, Fifth_Gen_Unmatched_List = Match(Fifth_Gen, Fifth_Gen_Population_Size,\n",
    "                                                       Fifth_Gen_Matched_List, Fifth_Gen_Unmatched_List, age_g[0], age_g[1])\n",
    "\n",
    "Fifth_Gen_Unmatched_List_2 = []\n",
    "Fifth_Gen_Matched_List_2, Fifth_Gen_Unmatched_List_2 = Match(Fifth_Gen_Unmatched_List, Fifth_Gen_Population_Size,\n",
    "                                                           Fifth_Gen_Matched_List, Fifth_Gen_Unmatched_List_2, age_g[0], age_g[1])\n",
    "\n",
    "Fifth_Gen_Unmatched_List_3 = []\n",
    "Fifth_Gen_Matched_List_3, Fifth_Gen_Unmatched_List_3 = Match(Fifth_Gen_Unmatched_List_2, Fifth_Gen_Population_Size,\n",
    "                                                           Fifth_Gen_Matched_List_2, Fifth_Gen_Unmatched_List_3, age_g[0], age_g[1])\n",
    "\n",
    "Fifth_Gen_Unmatched_List_4 = []\n",
    "Fifth_Gen_Matched_List_4, Fifth_Gen_Unmatched_List_4 = Match(Fifth_Gen_Unmatched_List_3, Fifth_Gen_Population_Size,\n",
    "                                                           Fifth_Gen_Matched_List_3, Fifth_Gen_Unmatched_List_4, age_g[0], age_g[1])\n",
    "\n",
    "\n",
    "Fifth_Gen_Unmatched_List_5 = []\n",
    "Fifth_Gen_Matched_List_5, Fifth_Gen_Unmatched_List_5 = Match(Fifth_Gen_Unmatched_List_4, Fifth_Gen_Population_Size,\n",
    "                                                           Fifth_Gen_Matched_List_4, Fifth_Gen_Unmatched_List_5, age_g[0], age_g[1])\n",
    "\n",
    "Fifth_Gen_Unmatched_List_6 = []\n",
    "Fifth_Gen_Matched_List_6, Fifth_Gen_Unmatched_List_6 = Match(Fifth_Gen_Unmatched_List_5, Fifth_Gen_Population_Size,\n",
    "                                                           Fifth_Gen_Matched_List_5, Fifth_Gen_Unmatched_List_6, age_g[0], age_g[1])\n",
    "\n",
    "\n",
    "for i in range(0, len(Fifth_Gen_Matched_List)):\n",
    "    if Fifth_Gen_Matched_List[i][1][-2] == 1:\n",
    "        Fifth_Gen_Matched_List[i] = [Fifth_Gen_Matched_List[i][1], Fifth_Gen_Matched_List[i][0]]\n"
   ]
  },
  {
   "cell_type": "code",
   "execution_count": null,
   "metadata": {},
   "outputs": [],
   "source": [
    "Sixth_Gen = []\n",
    "test = []\n",
    "for i in range(0, len(Fifth_Gen_Matched_List)):\n",
    "    Matched_List.append(Fifth_Gen_Matched_List[i])\n",
    "    if Fifth_Gen_Matched_List[i][0][1] < (end_year-15):\n",
    "        Sixth_Gen.append(Generate(Fifth_Gen_Matched_List[i]))\n",
    "    else:\n",
    "        pass\n",
    "RemoveEmptyLists(Sixth_Gen)\n",
    "\n",
    "test = []\n",
    "for i in range(0, len(Sixth_Gen)):\n",
    "    for j in range(0, len(Sixth_Gen[i])):\n",
    "        test.append(Sixth_Gen[i][j])\n",
    "Sixth_Gen = test\n",
    "del(test)\n"
   ]
  },
  {
   "cell_type": "code",
   "execution_count": null,
   "metadata": {},
   "outputs": [],
   "source": [
    "Remove_Impossible(Sixth_Gen)"
   ]
  },
  {
   "cell_type": "code",
   "execution_count": null,
   "metadata": {
    "scrolled": true
   },
   "outputs": [],
   "source": [
    "Sixth_Gen_Population_Size = len(Sixth_Gen)\n",
    "\n",
    "Sixth_Gen_Matched_List = []\n",
    "Sixth_Gen_Unmatched_List = []\n",
    "Sixth_Gen_Matched_List, Sixth_Gen_Unmatched_List = Match(Sixth_Gen, Sixth_Gen_Population_Size,\n",
    "                                                       Sixth_Gen_Matched_List, Sixth_Gen_Unmatched_List, age_g[0], age_g[1])\n",
    "\n",
    "Sixth_Gen_Unmatched_List_2 = []\n",
    "Sixth_Gen_Matched_List_2, Sixth_Gen_Unmatched_List_2 = Match(Sixth_Gen_Unmatched_List, Sixth_Gen_Population_Size,\n",
    "                                                           Sixth_Gen_Matched_List, Sixth_Gen_Unmatched_List_2, age_g[0], age_g[1])\n",
    "\n",
    "Sixth_Gen_Unmatched_List_3 = []\n",
    "Sixth_Gen_Matched_List_3, Sixth_Gen_Unmatched_List_3 = Match(Sixth_Gen_Unmatched_List_2, Sixth_Gen_Population_Size,\n",
    "                                                           Sixth_Gen_Matched_List_2, Sixth_Gen_Unmatched_List_3, age_g[0], age_g[1])\n",
    "\n",
    "Sixth_Gen_Unmatched_List_4 = []\n",
    "Sixth_Gen_Matched_List_4, Sixth_Gen_Unmatched_List_4 = Match(Sixth_Gen_Unmatched_List_3, Sixth_Gen_Population_Size,\n",
    "                                                           Sixth_Gen_Matched_List_3, Sixth_Gen_Unmatched_List_4, age_g[0], age_g[1])\n",
    "\n",
    "\n",
    "Sixth_Gen_Unmatched_List_5 = []\n",
    "Sixth_Gen_Matched_List_5, Sixth_Gen_Unmatched_List_5 = Match(Sixth_Gen_Unmatched_List_4, Sixth_Gen_Population_Size,\n",
    "                                                           Sixth_Gen_Matched_List_4, Sixth_Gen_Unmatched_List_5, age_g[0], age_g[1])\n",
    "\n",
    "Sixth_Gen_Unmatched_List_6 = []\n",
    "Sixth_Gen_Matched_List_6, Sixth_Gen_Unmatched_List_6 = Match(Sixth_Gen_Unmatched_List_5, Sixth_Gen_Population_Size,\n",
    "                                                           Sixth_Gen_Matched_List_5, Sixth_Gen_Unmatched_List_6, age_g[0], age_g[1])\n",
    "\n",
    "\n",
    "for i in range(0, len(Sixth_Gen_Matched_List)):\n",
    "    if Sixth_Gen_Matched_List[i][1][-2] == 1:\n",
    "        Sixth_Gen_Matched_List[i] = [Sixth_Gen_Matched_List[i][1], Sixth_Gen_Matched_List[i][0]]\n"
   ]
  },
  {
   "cell_type": "code",
   "execution_count": null,
   "metadata": {},
   "outputs": [],
   "source": [
    "Seventh_Gen = []\n",
    "test = []\n",
    "for i in range(0, len(Sixth_Gen_Matched_List)):\n",
    "    Matched_List.append(Sixth_Gen_Matched_List[i])\n",
    "    if Sixth_Gen_Matched_List[i][0][1] < (end_year-15):\n",
    "        Seventh_Gen.append(Generate(Sixth_Gen_Matched_List[i]))\n",
    "    else:\n",
    "        pass\n",
    "RemoveEmptyLists(Seventh_Gen)\n",
    "\n",
    "test = []\n",
    "for i in range(0, len(Seventh_Gen)):\n",
    "    for j in range(0, len(Seventh_Gen[i])):\n",
    "        test.append(Seventh_Gen[i][j])\n",
    "Seventh_Gen = test\n",
    "del(test)\n"
   ]
  },
  {
   "cell_type": "code",
   "execution_count": null,
   "metadata": {},
   "outputs": [],
   "source": [
    "Remove_Impossible(Seventh_Gen)"
   ]
  },
  {
   "cell_type": "code",
   "execution_count": null,
   "metadata": {},
   "outputs": [],
   "source": [
    "Seventh_Gen_Population_Size = len(Seventh_Gen)\n",
    "\n",
    "Seventh_Gen_Matched_List = []\n",
    "Seventh_Gen_Unmatched_List = []\n",
    "Seventh_Gen_Matched_List, Seventh_Gen_Unmatched_List = Match(Seventh_Gen, Seventh_Gen_Population_Size,\n",
    "                                                       Seventh_Gen_Matched_List, Seventh_Gen_Unmatched_List, age_g[0], age_g[1])\n",
    "\n",
    "Seventh_Gen_Unmatched_List_2 = []\n",
    "Seventh_Gen_Matched_List_2, Seventh_Gen_Unmatched_List_2 = Match(Seventh_Gen_Unmatched_List, Seventh_Gen_Population_Size,\n",
    "                                                           Seventh_Gen_Matched_List, Seventh_Gen_Unmatched_List_2, age_g[0], age_g[1])\n",
    "\n",
    "Seventh_Gen_Unmatched_List_3 = []\n",
    "Seventh_Gen_Matched_List_3, Seventh_Gen_Unmatched_List_3 = Match(Seventh_Gen_Unmatched_List_2, Seventh_Gen_Population_Size,\n",
    "                                                           Seventh_Gen_Matched_List_2, Seventh_Gen_Unmatched_List_3, age_g[0], age_g[1])\n",
    "\n",
    "Seventh_Gen_Unmatched_List_4 = []\n",
    "Seventh_Gen_Matched_List_4, Seventh_Gen_Unmatched_List_4 = Match(Seventh_Gen_Unmatched_List_3, Seventh_Gen_Population_Size,\n",
    "                                                           Seventh_Gen_Matched_List_3, Seventh_Gen_Unmatched_List_4, age_g[0], age_g[1])\n",
    "\n",
    "Seventh_Gen_Unmatched_List_5 = []\n",
    "Seventh_Gen_Matched_List_5, Seventh_Gen_Unmatched_List_5 = Match(Seventh_Gen_Unmatched_List_4, Seventh_Gen_Population_Size,\n",
    "                                                           Seventh_Gen_Matched_List_4, Seventh_Gen_Unmatched_List_5, age_g[0], age_g[1])\n",
    "\n",
    "Seventh_Gen_Unmatched_List_6 = []\n",
    "Seventh_Gen_Matched_List_6, Seventh_Gen_Unmatched_List_6 = Match(Seventh_Gen_Unmatched_List_5, Seventh_Gen_Population_Size,\n",
    "                                                           Seventh_Gen_Matched_List_5, Seventh_Gen_Unmatched_List_6, age_g[0], age_g[1])\n",
    "\n",
    "for i in range(0, len(Seventh_Gen_Matched_List)):\n",
    "    if Seventh_Gen_Matched_List[i][1][-2] == 1:\n",
    "        Seventh_Gen_Matched_List[i] = [Seventh_Gen_Matched_List[i][1], Seventh_Gen_Matched_List[i][0]]\n"
   ]
  },
  {
   "cell_type": "code",
   "execution_count": null,
   "metadata": {},
   "outputs": [],
   "source": [
    "Eighth_Gen = []\n",
    "test = []\n",
    "for i in range(0, len(Seventh_Gen_Matched_List)):\n",
    "    Matched_List.append(Seventh_Gen_Matched_List[i])\n",
    "    if Seventh_Gen_Matched_List[i][0][1] < (end_year-15):\n",
    "        Eighth_Gen.append(Generate(Seventh_Gen_Matched_List[i]))\n",
    "    else:\n",
    "        pass\n",
    "RemoveEmptyLists(Eighth_Gen)\n",
    "\n",
    "test = []\n",
    "for i in range(0, len(Eighth_Gen)):\n",
    "    for j in range(0, len(Eighth_Gen[i])):\n",
    "        test.append(Eighth_Gen[i][j])\n",
    "Eighth_Gen = test\n",
    "del(test)\n"
   ]
  },
  {
   "cell_type": "code",
   "execution_count": null,
   "metadata": {},
   "outputs": [],
   "source": [
    "Remove_Impossible(Eighth_Gen)"
   ]
  },
  {
   "cell_type": "code",
   "execution_count": null,
   "metadata": {
    "scrolled": true
   },
   "outputs": [],
   "source": [
    "Eighth_Gen_Population_Size = len(Eighth_Gen)\n",
    "\n",
    "Eighth_Gen_Matched_List = []\n",
    "Eighth_Gen_Unmatched_List = []\n",
    "Eighth_Gen_Matched_List, Eighth_Gen_Unmatched_List = Match(Eighth_Gen, Eighth_Gen_Population_Size,\n",
    "                                                       Eighth_Gen_Matched_List, Eighth_Gen_Unmatched_List, age_g[0], age_g[1])\n",
    "\n",
    "Eighth_Gen_Unmatched_List_2 = []\n",
    "Eighth_Gen_Matched_List_2, Eighth_Gen_Unmatched_List_2 = Match(Eighth_Gen_Unmatched_List, Eighth_Gen_Population_Size,\n",
    "                                                           Eighth_Gen_Matched_List, Eighth_Gen_Unmatched_List_2, age_g[0], age_g[1])\n",
    "\n",
    "\n",
    "Eighth_Gen_Unmatched_List_3 = []\n",
    "Eighth_Gen_Matched_List_3, Eighth_Gen_Unmatched_List_3 = Match(Eighth_Gen_Unmatched_List_2, Eighth_Gen_Population_Size,\n",
    "                                                           Eighth_Gen_Matched_List_2, Eighth_Gen_Unmatched_List_3, age_g[0], age_g[1])\n",
    "\n",
    "\n",
    "Eighth_Gen_Unmatched_List_4 = []\n",
    "Eighth_Gen_Matched_List_4, Eighth_Gen_Unmatched_List_4 = Match(Eighth_Gen_Unmatched_List_3, Eighth_Gen_Population_Size,\n",
    "                                                           Eighth_Gen_Matched_List_3, Eighth_Gen_Unmatched_List_4, age_g[0], age_g[1])\n",
    "\n",
    "\n",
    "Eighth_Gen_Unmatched_List_5 = []\n",
    "Eighth_Gen_Matched_List_5, Eighth_Gen_Unmatched_List_5 = Match(Eighth_Gen_Unmatched_List_4, Eighth_Gen_Population_Size,\n",
    "                                                           Eighth_Gen_Matched_List_4, Eighth_Gen_Unmatched_List_5, age_g[0], age_g[1])\n",
    "\n",
    "\n",
    "Eighth_Gen_Unmatched_List_6 = []\n",
    "Eighth_Gen_Matched_List_6, Eighth_Gen_Unmatched_List_6 = Match(Eighth_Gen_Unmatched_List_5, Eighth_Gen_Population_Size,\n",
    "                                                           Eighth_Gen_Matched_List_5, Eighth_Gen_Unmatched_List_6, age_g[0], age_g[1])\n",
    "\n",
    "\n",
    "for i in range(0, len(Eighth_Gen_Matched_List)):\n",
    "    if Eighth_Gen_Matched_List[i][1][-2] == 1:\n",
    "        Eighth_Gen_Matched_List[i] = [Eighth_Gen_Matched_List[i][1], Eighth_Gen_Matched_List[i][0]]\n"
   ]
  },
  {
   "cell_type": "code",
   "execution_count": null,
   "metadata": {},
   "outputs": [],
   "source": [
    "Ninth_Gen = []\n",
    "test = []\n",
    "for i in range(0, len(Eighth_Gen_Matched_List)):\n",
    "    Matched_List.append(Eighth_Gen_Matched_List[i])\n",
    "    if Eighth_Gen_Matched_List[i][0][1] < (end_year-15):\n",
    "        Ninth_Gen.append(Generate(Eighth_Gen_Matched_List[i]))\n",
    "    else:\n",
    "        pass\n",
    "RemoveEmptyLists(Ninth_Gen)\n",
    "\n",
    "test = []\n",
    "for i in range(0, len(Ninth_Gen)):\n",
    "    for j in range(0, len(Ninth_Gen[i])):\n",
    "        test.append(Ninth_Gen[i][j])\n",
    "Ninth_Gen = test\n",
    "del(test)\n"
   ]
  },
  {
   "cell_type": "code",
   "execution_count": null,
   "metadata": {},
   "outputs": [],
   "source": [
    "Remove_Impossible(Ninth_Gen)"
   ]
  },
  {
   "cell_type": "code",
   "execution_count": null,
   "metadata": {},
   "outputs": [],
   "source": [
    "Ninth_Gen_Population_Size = len(Ninth_Gen)\n",
    "\n",
    "Ninth_Gen_Matched_List = []\n",
    "Ninth_Gen_Unmatched_List = []\n",
    "Ninth_Gen_Matched_List, Ninth_Gen_Unmatched_List = Match(Ninth_Gen, Ninth_Gen_Population_Size,\n",
    "                                                       Ninth_Gen_Matched_List, Ninth_Gen_Unmatched_List, age_g[0], age_g[1])\n",
    "\n",
    "Ninth_Gen_Unmatched_List_2 = []\n",
    "Ninth_Gen_Matched_List_2, Ninth_Gen_Unmatched_List_2 = Match(Ninth_Gen_Unmatched_List, Ninth_Gen_Population_Size,\n",
    "                                                           Ninth_Gen_Matched_List, Ninth_Gen_Unmatched_List_2, age_g[0], age_g[1])\n",
    "\n",
    "Ninth_Gen_Unmatched_List_3 = []\n",
    "Ninth_Gen_Matched_List_3, Ninth_Gen_Unmatched_List_3 = Match(Ninth_Gen_Unmatched_List_2, Ninth_Gen_Population_Size,\n",
    "                                                           Ninth_Gen_Matched_List_2, Ninth_Gen_Unmatched_List_3, age_g[0], age_g[1])\n",
    "\n",
    "\n",
    "Ninth_Gen_Unmatched_List_4 = []\n",
    "Ninth_Gen_Matched_List_4, Ninth_Gen_Unmatched_List_4 = Match(Ninth_Gen_Unmatched_List_3, Ninth_Gen_Population_Size,\n",
    "                                                           Ninth_Gen_Matched_List_3, Ninth_Gen_Unmatched_List_4, age_g[0], age_g[1])\n",
    "\n",
    "\n",
    "Ninth_Gen_Unmatched_List_5 = []\n",
    "Ninth_Gen_Matched_List_5, Ninth_Gen_Unmatched_List_5 = Match(Ninth_Gen_Unmatched_List_4, Ninth_Gen_Population_Size,\n",
    "                                                           Ninth_Gen_Matched_List_4, Ninth_Gen_Unmatched_List_5, age_g[0], age_g[1])\n",
    "\n",
    "Ninth_Gen_Unmatched_List_6 = []\n",
    "Ninth_Gen_Matched_List_6, Ninth_Gen_Unmatched_List_6 = Match(Ninth_Gen_Unmatched_List_5, Ninth_Gen_Population_Size,\n",
    "                                                           Ninth_Gen_Matched_List_5, Ninth_Gen_Unmatched_List_6, age_g[0], age_g[1])\n",
    "\n",
    "\n",
    "for i in range(0, len(Ninth_Gen_Matched_List)):\n",
    "    if Ninth_Gen_Matched_List[i][1][-2] == 1:\n",
    "        Ninth_Gen_Matched_List[i] = [Ninth_Gen_Matched_List[i][1], Ninth_Gen_Matched_List[i][0]]\n"
   ]
  },
  {
   "cell_type": "code",
   "execution_count": null,
   "metadata": {},
   "outputs": [],
   "source": [
    "Tenth_Gen = []\n",
    "test = []\n",
    "for i in range(0, len(Ninth_Gen_Matched_List)):\n",
    "    Matched_List.append(Ninth_Gen_Matched_List[i])\n",
    "    if Ninth_Gen_Matched_List[i][0][1] < (end_year-15):\n",
    "        Tenth_Gen.append(Generate(Ninth_Gen_Matched_List[i]))\n",
    "    else:\n",
    "        pass\n",
    "RemoveEmptyLists(Tenth_Gen)\n",
    "\n",
    "test = []\n",
    "for i in range(0, len(Tenth_Gen)):\n",
    "    for j in range(0, len(Tenth_Gen[i])):\n",
    "        test.append(Tenth_Gen[i][j])\n",
    "Tenth_Gen = test\n",
    "del(test)\n"
   ]
  },
  {
   "cell_type": "code",
   "execution_count": null,
   "metadata": {},
   "outputs": [],
   "source": [
    "Remove_Impossible(Tenth_Gen)"
   ]
  },
  {
   "cell_type": "code",
   "execution_count": null,
   "metadata": {},
   "outputs": [],
   "source": [
    "Tenth_Gen_Population_Size = len(Tenth_Gen)\n",
    "\n",
    "Tenth_Gen_Matched_List = []\n",
    "Tenth_Gen_Unmatched_List = []\n",
    "Tenth_Gen_Matched_List, Tenth_Gen_Unmatched_List = Match(Tenth_Gen, Tenth_Gen_Population_Size,\n",
    "                                                       Tenth_Gen_Matched_List, Tenth_Gen_Unmatched_List, age_g[0], age_g[1])\n",
    "\n",
    "Tenth_Gen_Unmatched_List_2 = []\n",
    "Tenth_Gen_Matched_List_2, Tenth_Gen_Unmatched_List_2 = Match(Tenth_Gen_Unmatched_List, Tenth_Gen_Population_Size,\n",
    "                                                           Tenth_Gen_Matched_List, Tenth_Gen_Unmatched_List_2, age_g[0], age_g[1])\n",
    "\n",
    "Tenth_Gen_Unmatched_List_3 = []\n",
    "Tenth_Gen_Matched_List_3, Tenth_Gen_Unmatched_List_3 = Match(Tenth_Gen_Unmatched_List_2, Tenth_Gen_Population_Size,\n",
    "                                                           Tenth_Gen_Matched_List_2, Tenth_Gen_Unmatched_List_3, age_g[0], age_g[1])\n",
    "\n",
    "\n",
    "Tenth_Gen_Unmatched_List_4 = []\n",
    "Tenth_Gen_Matched_List_4, Tenth_Gen_Unmatched_List_4 = Match(Tenth_Gen_Unmatched_List_3, Tenth_Gen_Population_Size,\n",
    "                                                           Tenth_Gen_Matched_List_3, Tenth_Gen_Unmatched_List_4, age_g[0], age_g[1])\n",
    "\n",
    "\n",
    "Tenth_Gen_Unmatched_List_5 = []\n",
    "Tenth_Gen_Matched_List_5, Tenth_Gen_Unmatched_List_5 = Match(Tenth_Gen_Unmatched_List_4, Tenth_Gen_Population_Size,\n",
    "                                                           Tenth_Gen_Matched_List_4, Tenth_Gen_Unmatched_List_5, age_g[0], age_g[1])\n",
    "\n",
    "\n",
    "Tenth_Gen_Unmatched_List_6 = []\n",
    "Tenth_Gen_Matched_List_6, Tenth_Gen_Unmatched_List_6 = Match(Tenth_Gen_Unmatched_List_5, Tenth_Gen_Population_Size,\n",
    "                                                           Tenth_Gen_Matched_List_5, Tenth_Gen_Unmatched_List_6, age_g[0], age_g[1])\n",
    "\n",
    "\n",
    "\n",
    "for i in range(0, len(Tenth_Gen_Matched_List)):\n",
    "    if Tenth_Gen_Matched_List[i][1][-2] == 1:\n",
    "        Tenth_Gen_Matched_List[i] = [Tenth_Gen_Matched_List[i][1], Tenth_Gen_Matched_List[i][0]]\n"
   ]
  },
  {
   "cell_type": "code",
   "execution_count": null,
   "metadata": {},
   "outputs": [],
   "source": []
  },
  {
   "cell_type": "code",
   "execution_count": null,
   "metadata": {},
   "outputs": [],
   "source": [
    "Eleventh_Gen = []\n",
    "test = []\n",
    "for i in range(0, len(Tenth_Gen_Matched_List)):\n",
    "    Matched_List.append(Tenth_Gen_Matched_List[i])\n",
    "    if Tenth_Gen_Matched_List[i][0][1] < (end_year-15):\n",
    "        Eleventh_Gen.append(Generate(Tenth_Gen_Matched_List[i]))\n",
    "    else:\n",
    "        pass\n",
    "RemoveEmptyLists(Eleventh_Gen)\n",
    "\n",
    "test = []\n",
    "for i in range(0, len(Eleventh_Gen)):\n",
    "    for j in range(0, len(Eleventh_Gen[i])):\n",
    "        test.append(Eleventh_Gen[i][j])\n",
    "Eleventh_Gen = test\n",
    "del(test)\n"
   ]
  },
  {
   "cell_type": "code",
   "execution_count": null,
   "metadata": {},
   "outputs": [],
   "source": [
    "Remove_Impossible(Eleventh_Gen)"
   ]
  },
  {
   "cell_type": "code",
   "execution_count": null,
   "metadata": {},
   "outputs": [],
   "source": [
    "Eleventh_Gen_Population_Size = len(Eleventh_Gen)\n",
    "\n",
    "Eleventh_Gen_Matched_List = []\n",
    "Eleventh_Gen_Unmatched_List = []\n",
    "Eleventh_Gen_Matched_List, Eleventh_Gen_Unmatched_List = Match(Eleventh_Gen, Eleventh_Gen_Population_Size,\n",
    "                                                       Eleventh_Gen_Matched_List, Eleventh_Gen_Unmatched_List, age_g[0], age_g[1])\n",
    "\n",
    "Eleventh_Gen_Unmatched_List_2 = []\n",
    "Eleventh_Gen_Matched_List_2, Eleventh_Gen_Unmatched_List_2 = Match(Eleventh_Gen_Unmatched_List, Eleventh_Gen_Population_Size,\n",
    "                                                           Eleventh_Gen_Matched_List, Eleventh_Gen_Unmatched_List_2, age_g[0], age_g[1])\n",
    "\n",
    "Eleventh_Gen_Unmatched_List_3 = []\n",
    "Eleventh_Gen_Matched_List_3, Eleventh_Gen_Unmatched_List_3 = Match(Eleventh_Gen_Unmatched_List_2, Eleventh_Gen_Population_Size,\n",
    "                                                           Eleventh_Gen_Matched_List_2, Eleventh_Gen_Unmatched_List_3, age_g[0], age_g[1])\n",
    "\n",
    "\n",
    "Eleventh_Gen_Unmatched_List_4 = []\n",
    "Eleventh_Gen_Matched_List_4, Eleventh_Gen_Unmatched_List_4= Match(Eleventh_Gen_Unmatched_List_3,  Eleventh_Gen_Population_Size,\n",
    "                                                           Eleventh_Gen_Matched_List_3, Eleventh_Gen_Unmatched_List_4, age_g[0], age_g[1])\n",
    "\n",
    "\n",
    "Eleventh_Gen_Unmatched_List_5 = []\n",
    "Eleventh_Gen_Matched_List_5, Eleventh_Gen_Unmatched_List_5= Match(Eleventh_Gen_Unmatched_List_4,  Eleventh_Gen_Population_Size,\n",
    "                                                           Eleventh_Gen_Matched_List_4, Eleventh_Gen_Unmatched_List_5, age_g[0], age_g[1])\n",
    "Eleventh_Gen_Unmatched_List_6 = []\n",
    "Eleventh_Gen_Matched_List_6, Eleventh_Gen_Unmatched_List_6= Match(Eleventh_Gen_Unmatched_List_5,  Eleventh_Gen_Population_Size,\n",
    "                                                           Eleventh_Gen_Matched_List_5, Eleventh_Gen_Unmatched_List_6, age_g[0], age_g[1])\n",
    "\n",
    "\n",
    "for i in range(0, len(Eleventh_Gen_Matched_List)):\n",
    "    if Eleventh_Gen_Matched_List[i][1][-2] == 1:\n",
    "        Eleventh_Gen_Matched_List[i] = [Eleventh_Gen_Matched_List[i][1], Eleventh_Gen_Matched_List[i][0]]\n"
   ]
  },
  {
   "cell_type": "code",
   "execution_count": null,
   "metadata": {},
   "outputs": [],
   "source": [
    "Twelfth_Gen = []\n",
    "test = []\n",
    "for i in range(0, len(Eleventh_Gen_Matched_List)):\n",
    "    Matched_List.append(Eleventh_Gen_Matched_List[i])\n",
    "    if Eleventh_Gen_Matched_List[i][0][1] < (end_year-15):\n",
    "        Twelfth_Gen.append(Generate(Eleventh_Gen_Matched_List[i]))\n",
    "    else:\n",
    "        pass\n",
    "RemoveEmptyLists(Twelfth_Gen)\n",
    "\n",
    "test = []\n",
    "for i in range(0, len(Twelfth_Gen)):\n",
    "    for j in range(0, len(Twelfth_Gen[i])):\n",
    "        test.append(Twelfth_Gen[i][j])\n",
    "Twelfth_Gen = test\n",
    "del(test)\n"
   ]
  },
  {
   "cell_type": "code",
   "execution_count": null,
   "metadata": {},
   "outputs": [],
   "source": [
    "Remove_Impossible(Twelfth_Gen)"
   ]
  },
  {
   "cell_type": "code",
   "execution_count": null,
   "metadata": {},
   "outputs": [],
   "source": [
    "end_time = timer()"
   ]
  },
  {
   "cell_type": "code",
   "execution_count": null,
   "metadata": {},
   "outputs": [],
   "source": [
    "def CheckAlive(year_analysed):\n",
    "    \n",
    "    y = []\n",
    "    \n",
    "    for i in range(0, len(GenerationsList)):\n",
    "        if GenerationsList[i][1] <= year_analysed and GenerationsList[i][7] >= year_analysed:\n",
    "            y.append(GenerationsList[i])\n",
    "            \n",
    "    return(y)"
   ]
  },
  {
   "cell_type": "code",
   "execution_count": null,
   "metadata": {},
   "outputs": [],
   "source": [
    "GenerationsList = []\n",
    "\n",
    "for i in range(0, len(Gen_Zero_Population)):\n",
    "    GenerationsList.append(Gen_Zero_Population[i])\n",
    "\n",
    "for i in range(0, len(First_Gen)):\n",
    "    GenerationsList.append(First_Gen[i])\n",
    "    \n",
    "for i in range(0, len(Second_Gen)):\n",
    "    GenerationsList.append(Second_Gen[i])\n",
    "    \n",
    "for i in range(0, len(Third_Gen)):\n",
    "    GenerationsList.append(Third_Gen[i])\n",
    "    \n",
    "for i in range(0, len(Fourth_Gen)):\n",
    "    GenerationsList.append(Fourth_Gen[i])\n",
    "    \n",
    "for i in range(0, len(Fifth_Gen)):\n",
    "    GenerationsList.append(Fifth_Gen[i])\n",
    "    \n",
    "for i in range(0, len(Sixth_Gen)):\n",
    "    GenerationsList.append(Sixth_Gen[i])\n",
    "    \n",
    "for i in range(0, len(Seventh_Gen)):\n",
    "    GenerationsList.append(Seventh_Gen[i])\n",
    "    \n",
    "for i in range(0, len(Eighth_Gen)):\n",
    "    GenerationsList.append(Eighth_Gen[i])\n",
    "    \n",
    "for i in range(0, len(Ninth_Gen)):\n",
    "    GenerationsList.append(Ninth_Gen[i])\n",
    "    \n",
    "for i in range(0, len(Tenth_Gen)):\n",
    "    GenerationsList.append(Tenth_Gen[i])\n",
    "    \n",
    "for i in range(0, len(Eleventh_Gen)):\n",
    "    GenerationsList.append(Eleventh_Gen[i])\n",
    "    \n",
    "for i in range(0, len(Twelfth_Gen)):\n",
    "    GenerationsList.append(Twelfth_Gen[i])"
   ]
  },
  {
   "cell_type": "code",
   "execution_count": null,
   "metadata": {},
   "outputs": [],
   "source": [
    "# Can Delete this later\n",
    "\n",
    "def CheckAlive_2(year_analysed, GenerationsList):\n",
    "    \n",
    "    y = []\n",
    "    \n",
    "    for i in range(0, len(GenerationsList)):\n",
    "        if GenerationsList[i][1] <= year_analysed and GenerationsList[i][7] >= year_analysed:\n",
    "            y.append(GenerationsList[i])\n",
    "            \n",
    "    return(y)\n",
    "\n",
    "\n",
    "date = 2000\n",
    "\n",
    "a = CheckAlive_2(date, GenerationsList)\n",
    "\n",
    "ages_list = []\n",
    "\n",
    "for i in range(0, len(a)):\n",
    "    ages_list.append(date-a[i][1])\n",
    "    \n",
    "ages_list_2 = []\n",
    "\n",
    "for i in range(0,101):\n",
    "    ages_list_2.append([i, ages_list.count(i)])\n",
    "    \n",
    "x = np.arange(0, len(ages_list_2))\n",
    "y = []\n",
    "\n",
    "for i in range(0, len(ages_list_2)):\n",
    "    #x.append(ages_list_2[i][0])\n",
    "    y.append(ages_list_2[i][1])\n",
    "    \n",
    "    \n",
    "\n",
    "#plt.figure(figsize=(7,5))\n",
    "#plt.bar(x, y, color='black')\n",
    "#plt.title('Age distribution of population living in {}'.format(date))\n",
    "#plt.xlabel('Age (years)')\n",
    "#plt.ylabel('Population living')\n",
    "#plt.xlim(-2,101)\n",
    "#plt.xticks(np.arange(0,110,10))\n",
    "#plt.show()"
   ]
  },
  {
   "cell_type": "code",
   "execution_count": null,
   "metadata": {},
   "outputs": [],
   "source": [
    "x = []\n",
    "y = []\n",
    "a1 = 1600\n",
    "a2 = 2020\n",
    "for i in range(a1,a2):\n",
    "    x.append(len(CheckAlive(i)))\n",
    "    y.append(i)\n",
    "\n",
    "#plt.figure(figsize=(9,5))  \n",
    "#plt.plot(y, x, color='black')\n",
    "#plt.title('Total population alive {}-{}'.format(a1,a2))\n",
    "#plt.xlim(1820,2032)\n",
    "#plt.xticks(np.arange(1820,2042,20), rotation=45)\n",
    "#plt.ylim(0,17000)\n",
    "#plt.xlabel('Year')\n",
    "#plt.ylabel('Population alive')\n",
    "#plt.show()"
   ]
  },
  {
   "cell_type": "code",
   "execution_count": null,
   "metadata": {},
   "outputs": [],
   "source": [
    "# First group GenerationsList into individuals with FH\n",
    "FH_List = []\n",
    "\n",
    "for i in range(0, len(GenerationsList)):\n",
    "    if GenerationsList[i][-1] == 1 or GenerationsList[i][-1] == 2:\n",
    "        FH_List.append(GenerationsList[i])"
   ]
  },
  {
   "cell_type": "markdown",
   "metadata": {},
   "source": [
    "## Re-writer"
   ]
  },
  {
   "cell_type": "code",
   "execution_count": null,
   "metadata": {},
   "outputs": [],
   "source": [
    "# fields = ['Family ID', 'Birth Year', 'Birth Order', 'Person ID', 'Couple ID', 'Parental couple ID', 'FH status', 'Date of Death']\n",
    "# with open('Generations_List_April_Default.csv', 'w') as f:\n",
    "      \n",
    "#     write = csv.writer(f)\n",
    "\n",
    "#     write.writerows(GenerationsList)\n",
    "    \n",
    "    \n",
    "    \n",
    "# First_Batch = []\n",
    "\n",
    "# with open('Generations_List_April_Default.csv', 'rt') as csv_file:\n",
    "#     csv_reader = csv.reader(csv_file)\n",
    "    \n",
    "#     for line in csv_reader:\n",
    "#         First_Batch.append(line)        \n",
    "# First_Batch = First_Batch[0:len(First_Batch):2]\n",
    "\n",
    "# for i in range(0, len(First_Batch)):\n",
    "#     for j in range(0, len(First_Batch[i])):\n",
    "#         First_Batch[i][j] = int(First_Batch[i][j])\n",
    "        \n",
    "        \n",
    "# with open('Matched_List_April_Default.csv', 'w', newline='') as f:\n",
    "#     writer = csv.writer(f)\n",
    "#     writer.writerows(Matched_List)\n",
    "# #    \n",
    "    \n",
    "    \n",
    "# Matched_List_1 = []\n",
    "# with open('Matched_List_April_Default.csv', 'rt') as csv_file:\n",
    "#     csv_reader = csv.reader(csv_file)\n",
    "#     next(csv_reader)\n",
    "   \n",
    "#     for line in csv_reader:\n",
    "#         Matched_List_1.append(line)\n",
    "# Matched_List_1 = Matched_List_1[0:len(Matched_List_1)]\n",
    "\n",
    "# for i in range(0, len(Matched_List_1)):\n",
    "#     for j in range(0, len(Matched_List_1[i])):\n",
    "#         Matched_List_1[i][j] = ast.literal_eval(Matched_List_1[i][j])"
   ]
  },
  {
   "cell_type": "code",
   "execution_count": null,
   "metadata": {},
   "outputs": [],
   "source": [
    "import csv\n",
    "import ast\n",
    "\n",
    "fields = ['Family ID', 'Birth Year', 'Birth Order', 'Person ID', 'Couple ID', 'Parental couple ID', 'FH status', 'Date of Death']\n",
    "\n",
    "with open('Generations_List_April_Default.csv', 'a', newline='') as f:\n",
    "    write = csv.writer(f)\n",
    "    write.writerows(GenerationsList)\n",
    "\n",
    "First_Batch = []\n",
    "\n",
    "with open('Generations_List_April_Default.csv', 'rt') as csv_file:\n",
    "    csv_reader = csv.reader(csv_file)\n",
    "    \n",
    "    for line in csv_reader:\n",
    "        First_Batch.append(line)        \n",
    "First_Batch = First_Batch[0:len(First_Batch):2]\n",
    "\n",
    "for i in range(0, len(First_Batch)):\n",
    "    for j in range(0, len(First_Batch[i])):\n",
    "        First_Batch[i][j] = int(First_Batch[i][j])\n",
    "\n",
    "        \n",
    "with open('Matched_List_April_Default.csv', 'a', newline='') as f:\n",
    "    writer = csv.writer(f)\n",
    "    writer.writerows(Matched_List)\n",
    "\n",
    "Matched_List_1 = []\n",
    "with open('Matched_List_April_Default.csv', 'rt') as csv_file:\n",
    "    csv_reader = csv.reader(csv_file)\n",
    "    next(csv_reader)\n",
    "   \n",
    "    for line in csv_reader:\n",
    "        Matched_List_1.append(line)\n",
    "Matched_List_1 = Matched_List_1[0:len(Matched_List_1)]\n",
    "\n",
    "for i in range(0, len(Matched_List_1)):\n",
    "    for j in range(0, len(Matched_List_1[i])):\n",
    "        Matched_List_1[i][j] = ast.literal_eval(Matched_List_1[i][j])\n"
   ]
  },
  {
   "cell_type": "code",
   "execution_count": null,
   "metadata": {},
   "outputs": [],
   "source": [
    "## Update"
   ]
  },
  {
   "cell_type": "code",
   "execution_count": null,
   "metadata": {},
   "outputs": [],
   "source": []
  },
  {
   "cell_type": "code",
   "execution_count": null,
   "metadata": {},
   "outputs": [],
   "source": []
  },
  {
   "cell_type": "code",
   "execution_count": null,
   "metadata": {},
   "outputs": [],
   "source": []
  },
  {
   "cell_type": "code",
   "execution_count": null,
   "metadata": {
    "scrolled": true
   },
   "outputs": [],
   "source": [
    "len(GenerationsList)"
   ]
  },
  {
   "cell_type": "code",
   "execution_count": null,
   "metadata": {},
   "outputs": [],
   "source": []
  },
  {
   "cell_type": "code",
   "execution_count": null,
   "metadata": {},
   "outputs": [],
   "source": [
    "10+7+3+10+8+7+10+7+6+6+4+5+10+10+10"
   ]
  },
  {
   "cell_type": "code",
   "execution_count": null,
   "metadata": {},
   "outputs": [],
   "source": [
    "# 1) [10, 7, 3]\n",
    "# 2) [10, 8, 7, 10]\n",
    "# 3) [7, 6, 6]\n",
    "# 4) 4\n",
    "# 5) 5\n",
    "# 6) 10\n",
    "# 7) [10, 10]\n",
    "\n",
    "# --------------------------------------\n",
    "# Population size scale = 2%\n",
    "# Output population = 24,952\n",
    "# Alive in 2023 = 6,959\n",
    "# Alive in 2023 with FH = 95\n",
    "# Processing time = 3.56 mins\n",
    "# --------------------------------------\n",
    "# 50 mins to process 14 "
   ]
  },
  {
   "cell_type": "code",
   "execution_count": null,
   "metadata": {},
   "outputs": [],
   "source": [
    "GenerationsList_2 = []\n",
    "\n",
    "with open('Generations_List_April_Default.csv', 'rt') as csv_file:\n",
    "    csv_reader = csv.reader(csv_file)\n",
    "    for line in csv_reader:\n",
    "        GenerationsList_2.append(line)        \n",
    "GenerationsList_2 = GenerationsList_2[0:len(GenerationsList_2):2]\n",
    "for i in range(0, len(GenerationsList_2)):\n",
    "    for j in range(0, len(GenerationsList_2[i])):\n",
    "        GenerationsList_2[i][j] = int(GenerationsList_2[i][j])   \n",
    "len_GenerationsList_2 = len(GenerationsList_2)"
   ]
  },
  {
   "cell_type": "code",
   "execution_count": null,
   "metadata": {},
   "outputs": [],
   "source": [
    "Matched_List_2 = []\n",
    "with open('Matched_List_April_Default.csv', 'rt') as csv_file:\n",
    "    csv_reader = csv.reader(csv_file)\n",
    "    for line in csv_reader:\n",
    "        Matched_List_2.append(line)\n",
    "Matched_List_2 = Matched_List_2[0:len(Matched_List_2)]\n",
    "for i in range(0, len(Matched_List_2)):\n",
    "    for j in range(0, len(Matched_List[i])):\n",
    "        Matched_List_2[i][j] = ast.literal_eval(Matched_List_2[i][j])\n"
   ]
  },
  {
   "cell_type": "code",
   "execution_count": null,
   "metadata": {},
   "outputs": [],
   "source": [
    "x = []\n",
    "x1 = []\n",
    "for i in GenerationsList_2:\n",
    "    if i[1] <= 2023 and i[-1] >=2023:\n",
    "        x.append(i)\n",
    "    if i[1] <=2023 and i[-1] >=2023 and i[-2] >0:\n",
    "        x1.append(i)\n",
    "        \n",
    "[round((end_time-start_time)/60, 2), len(GenerationsList_2), len(x), len(x1), len(x1)/len(x)]"
   ]
  },
  {
   "cell_type": "code",
   "execution_count": null,
   "metadata": {},
   "outputs": [],
   "source": [
    "len(GenerationsList_2), len(Matched_List_2)"
   ]
  },
  {
   "cell_type": "code",
   "execution_count": null,
   "metadata": {},
   "outputs": [],
   "source": [
    "pwd"
   ]
  },
  {
   "cell_type": "code",
   "execution_count": null,
   "metadata": {},
   "outputs": [],
   "source": []
  }
 ],
 "metadata": {
  "kernelspec": {
   "display_name": "Python 3 (ipykernel)",
   "language": "python",
   "name": "python3"
  },
  "language_info": {
   "codemirror_mode": {
    "name": "ipython",
    "version": 3
   },
   "file_extension": ".py",
   "mimetype": "text/x-python",
   "name": "python",
   "nbconvert_exporter": "python",
   "pygments_lexer": "ipython3",
   "version": "3.9.13"
  }
 },
 "nbformat": 4,
 "nbformat_minor": 2
}
